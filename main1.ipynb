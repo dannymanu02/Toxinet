{
 "cells": [
  {
   "cell_type": "code",
   "execution_count": 2,
   "metadata": {},
   "outputs": [
    {
     "name": "stdout",
     "output_type": "stream",
     "text": [
      "          username                                              tweet  \\\n",
      "0    @mayasolovely  RT As a woman you shouldnt complain about clea...   \n",
      "1         @mleew17  RT boy dats coldtyga dwn bad for cuffin dat ho...   \n",
      "2   @UrKindOfBrand  RT Dawg RT You ever fuck a bitch and she start...   \n",
      "3    @C_G_Anderson                          RT she look like a tranny   \n",
      "4  @ShenikaRoberts  RT The shit you hear about me might be true or...   \n",
      "\n",
      "                     labels  \n",
      "0      Neutral or Ambiguous  \n",
      "1  Offensive or Hate Speech  \n",
      "2  Offensive or Hate Speech  \n",
      "3  Offensive or Hate Speech  \n",
      "4  Offensive or Hate Speech  \n",
      "username    211913\n",
      "tweet            0\n",
      "labels           0\n",
      "dtype: int64\n"
     ]
    }
   ],
   "source": [
    "import pandas as pd\n",
    "\n",
    "# Load dataset from URL\n",
    "url = \"cleaned_twitter_data.csv\"  # Replace with your dataset URL\n",
    "df = pd.read_csv(url)\n",
    "\n",
    "# Inspect the data\n",
    "print(df.head())\n",
    "\n",
    "# Check for missing values\n",
    "print(df.isnull().sum())\n",
    "\n",
    "# Drop missing values if any\n",
    "df.dropna(inplace=True)\n",
    "\n",
    "# Map labels to integers\n",
    "label_mapping = {\n",
    "    \"Neutral or Ambiguous\": 0,\n",
    "    \"Offensive or Hate Speech\": 1,\n",
    "    \"Not Hate\": 2\n",
    "}\n",
    "df['labels_encoded'] = df['labels'].map(label_mapping)"
   ]
  },
  {
   "cell_type": "code",
   "execution_count": 3,
   "metadata": {},
   "outputs": [],
   "source": [
    "from sklearn.model_selection import train_test_split\n",
    "from tensorflow.keras.utils import to_categorical\n",
    "from tensorflow.keras.preprocessing.text import Tokenizer\n",
    "from tensorflow.keras.preprocessing.sequence import pad_sequences\n",
    "\n",
    "# Define hyperparameters\n",
    "max_vocab_size = 10000\n",
    "max_sequence_length = 100\n",
    "embedding_dim = 100\n",
    "batch_size = 32\n",
    "\n",
    "# Tokenization\n",
    "tokenizer = Tokenizer(num_words=max_vocab_size, oov_token=\"<OOV>\")\n",
    "tokenizer.fit_on_texts(df['tweet'])\n",
    "sequences = tokenizer.texts_to_sequences(df['tweet'])\n",
    "padded_sequences = pad_sequences(sequences, maxlen=max_sequence_length, padding='post')\n",
    "\n",
    "# Train-test split\n",
    "X_train, X_test, y_train, y_test = train_test_split(\n",
    "    padded_sequences, df['labels_encoded'], test_size=0.2, random_state=42\n",
    ")\n",
    "y_train = to_categorical(y_train, num_classes=3)\n",
    "y_test = to_categorical(y_test, num_classes=3)"
   ]
  },
  {
   "cell_type": "code",
   "execution_count": 4,
   "metadata": {},
   "outputs": [
    {
     "name": "stderr",
     "output_type": "stream",
     "text": [
      "d:\\FALL2024\\DEEPLEARNING\\deeplearning project\\venv\\Lib\\site-packages\\keras\\src\\layers\\core\\embedding.py:90: UserWarning: Argument `input_length` is deprecated. Just remove it.\n",
      "  warnings.warn(\n"
     ]
    },
    {
     "data": {
      "text/html": [
       "<pre style=\"white-space:pre;overflow-x:auto;line-height:normal;font-family:Menlo,'DejaVu Sans Mono',consolas,'Courier New',monospace\"><span style=\"font-weight: bold\">Model: \"sequential\"</span>\n",
       "</pre>\n"
      ],
      "text/plain": [
       "\u001b[1mModel: \"sequential\"\u001b[0m\n"
      ]
     },
     "metadata": {},
     "output_type": "display_data"
    },
    {
     "data": {
      "text/html": [
       "<pre style=\"white-space:pre;overflow-x:auto;line-height:normal;font-family:Menlo,'DejaVu Sans Mono',consolas,'Courier New',monospace\">┏━━━━━━━━━━━━━━━━━━━━━━━━━━━━━━━━━┳━━━━━━━━━━━━━━━━━━━━━━━━┳━━━━━━━━━━━━━━━┓\n",
       "┃<span style=\"font-weight: bold\"> Layer (type)                    </span>┃<span style=\"font-weight: bold\"> Output Shape           </span>┃<span style=\"font-weight: bold\">       Param # </span>┃\n",
       "┡━━━━━━━━━━━━━━━━━━━━━━━━━━━━━━━━━╇━━━━━━━━━━━━━━━━━━━━━━━━╇━━━━━━━━━━━━━━━┩\n",
       "│ embedding (<span style=\"color: #0087ff; text-decoration-color: #0087ff\">Embedding</span>)           │ ?                      │   <span style=\"color: #00af00; text-decoration-color: #00af00\">0</span> (unbuilt) │\n",
       "├─────────────────────────────────┼────────────────────────┼───────────────┤\n",
       "│ bidirectional (<span style=\"color: #0087ff; text-decoration-color: #0087ff\">Bidirectional</span>)   │ ?                      │   <span style=\"color: #00af00; text-decoration-color: #00af00\">0</span> (unbuilt) │\n",
       "├─────────────────────────────────┼────────────────────────┼───────────────┤\n",
       "│ dropout (<span style=\"color: #0087ff; text-decoration-color: #0087ff\">Dropout</span>)               │ ?                      │             <span style=\"color: #00af00; text-decoration-color: #00af00\">0</span> │\n",
       "├─────────────────────────────────┼────────────────────────┼───────────────┤\n",
       "│ bidirectional_1 (<span style=\"color: #0087ff; text-decoration-color: #0087ff\">Bidirectional</span>) │ ?                      │   <span style=\"color: #00af00; text-decoration-color: #00af00\">0</span> (unbuilt) │\n",
       "├─────────────────────────────────┼────────────────────────┼───────────────┤\n",
       "│ dense (<span style=\"color: #0087ff; text-decoration-color: #0087ff\">Dense</span>)                   │ ?                      │   <span style=\"color: #00af00; text-decoration-color: #00af00\">0</span> (unbuilt) │\n",
       "├─────────────────────────────────┼────────────────────────┼───────────────┤\n",
       "│ dense_1 (<span style=\"color: #0087ff; text-decoration-color: #0087ff\">Dense</span>)                 │ ?                      │   <span style=\"color: #00af00; text-decoration-color: #00af00\">0</span> (unbuilt) │\n",
       "└─────────────────────────────────┴────────────────────────┴───────────────┘\n",
       "</pre>\n"
      ],
      "text/plain": [
       "┏━━━━━━━━━━━━━━━━━━━━━━━━━━━━━━━━━┳━━━━━━━━━━━━━━━━━━━━━━━━┳━━━━━━━━━━━━━━━┓\n",
       "┃\u001b[1m \u001b[0m\u001b[1mLayer (type)                   \u001b[0m\u001b[1m \u001b[0m┃\u001b[1m \u001b[0m\u001b[1mOutput Shape          \u001b[0m\u001b[1m \u001b[0m┃\u001b[1m \u001b[0m\u001b[1m      Param #\u001b[0m\u001b[1m \u001b[0m┃\n",
       "┡━━━━━━━━━━━━━━━━━━━━━━━━━━━━━━━━━╇━━━━━━━━━━━━━━━━━━━━━━━━╇━━━━━━━━━━━━━━━┩\n",
       "│ embedding (\u001b[38;5;33mEmbedding\u001b[0m)           │ ?                      │   \u001b[38;5;34m0\u001b[0m (unbuilt) │\n",
       "├─────────────────────────────────┼────────────────────────┼───────────────┤\n",
       "│ bidirectional (\u001b[38;5;33mBidirectional\u001b[0m)   │ ?                      │   \u001b[38;5;34m0\u001b[0m (unbuilt) │\n",
       "├─────────────────────────────────┼────────────────────────┼───────────────┤\n",
       "│ dropout (\u001b[38;5;33mDropout\u001b[0m)               │ ?                      │             \u001b[38;5;34m0\u001b[0m │\n",
       "├─────────────────────────────────┼────────────────────────┼───────────────┤\n",
       "│ bidirectional_1 (\u001b[38;5;33mBidirectional\u001b[0m) │ ?                      │   \u001b[38;5;34m0\u001b[0m (unbuilt) │\n",
       "├─────────────────────────────────┼────────────────────────┼───────────────┤\n",
       "│ dense (\u001b[38;5;33mDense\u001b[0m)                   │ ?                      │   \u001b[38;5;34m0\u001b[0m (unbuilt) │\n",
       "├─────────────────────────────────┼────────────────────────┼───────────────┤\n",
       "│ dense_1 (\u001b[38;5;33mDense\u001b[0m)                 │ ?                      │   \u001b[38;5;34m0\u001b[0m (unbuilt) │\n",
       "└─────────────────────────────────┴────────────────────────┴───────────────┘\n"
      ]
     },
     "metadata": {},
     "output_type": "display_data"
    },
    {
     "data": {
      "text/html": [
       "<pre style=\"white-space:pre;overflow-x:auto;line-height:normal;font-family:Menlo,'DejaVu Sans Mono',consolas,'Courier New',monospace\"><span style=\"font-weight: bold\"> Total params: </span><span style=\"color: #00af00; text-decoration-color: #00af00\">0</span> (0.00 B)\n",
       "</pre>\n"
      ],
      "text/plain": [
       "\u001b[1m Total params: \u001b[0m\u001b[38;5;34m0\u001b[0m (0.00 B)\n"
      ]
     },
     "metadata": {},
     "output_type": "display_data"
    },
    {
     "data": {
      "text/html": [
       "<pre style=\"white-space:pre;overflow-x:auto;line-height:normal;font-family:Menlo,'DejaVu Sans Mono',consolas,'Courier New',monospace\"><span style=\"font-weight: bold\"> Trainable params: </span><span style=\"color: #00af00; text-decoration-color: #00af00\">0</span> (0.00 B)\n",
       "</pre>\n"
      ],
      "text/plain": [
       "\u001b[1m Trainable params: \u001b[0m\u001b[38;5;34m0\u001b[0m (0.00 B)\n"
      ]
     },
     "metadata": {},
     "output_type": "display_data"
    },
    {
     "data": {
      "text/html": [
       "<pre style=\"white-space:pre;overflow-x:auto;line-height:normal;font-family:Menlo,'DejaVu Sans Mono',consolas,'Courier New',monospace\"><span style=\"font-weight: bold\"> Non-trainable params: </span><span style=\"color: #00af00; text-decoration-color: #00af00\">0</span> (0.00 B)\n",
       "</pre>\n"
      ],
      "text/plain": [
       "\u001b[1m Non-trainable params: \u001b[0m\u001b[38;5;34m0\u001b[0m (0.00 B)\n"
      ]
     },
     "metadata": {},
     "output_type": "display_data"
    },
    {
     "name": "stdout",
     "output_type": "stream",
     "text": [
      "Epoch 1/10\n",
      "\u001b[1m617/617\u001b[0m \u001b[32m━━━━━━━━━━━━━━━━━━━━\u001b[0m\u001b[37m\u001b[0m \u001b[1m71s\u001b[0m 107ms/step - accuracy: 0.7073 - loss: 0.6680 - val_accuracy: 0.8303 - val_loss: 0.4281\n",
      "Epoch 2/10\n",
      "\u001b[1m617/617\u001b[0m \u001b[32m━━━━━━━━━━━━━━━━━━━━\u001b[0m\u001b[37m\u001b[0m \u001b[1m62s\u001b[0m 100ms/step - accuracy: 0.8851 - loss: 0.3110 - val_accuracy: 0.8706 - val_loss: 0.3670\n",
      "Epoch 3/10\n",
      "\u001b[1m617/617\u001b[0m \u001b[32m━━━━━━━━━━━━━━━━━━━━\u001b[0m\u001b[37m\u001b[0m \u001b[1m64s\u001b[0m 104ms/step - accuracy: 0.9354 - loss: 0.1951 - val_accuracy: 0.8684 - val_loss: 0.3803\n",
      "Epoch 4/10\n",
      "\u001b[1m617/617\u001b[0m \u001b[32m━━━━━━━━━━━━━━━━━━━━\u001b[0m\u001b[37m\u001b[0m \u001b[1m61s\u001b[0m 100ms/step - accuracy: 0.9574 - loss: 0.1320 - val_accuracy: 0.8783 - val_loss: 0.4131\n",
      "Epoch 5/10\n",
      "\u001b[1m617/617\u001b[0m \u001b[32m━━━━━━━━━━━━━━━━━━━━\u001b[0m\u001b[37m\u001b[0m \u001b[1m63s\u001b[0m 102ms/step - accuracy: 0.9697 - loss: 0.0978 - val_accuracy: 0.8747 - val_loss: 0.4710\n",
      "Epoch 6/10\n",
      "\u001b[1m617/617\u001b[0m \u001b[32m━━━━━━━━━━━━━━━━━━━━\u001b[0m\u001b[37m\u001b[0m \u001b[1m34s\u001b[0m 55ms/step - accuracy: 0.9764 - loss: 0.0725 - val_accuracy: 0.8816 - val_loss: 0.4837\n",
      "Epoch 7/10\n",
      "\u001b[1m617/617\u001b[0m \u001b[32m━━━━━━━━━━━━━━━━━━━━\u001b[0m\u001b[37m\u001b[0m \u001b[1m30s\u001b[0m 48ms/step - accuracy: 0.9800 - loss: 0.0603 - val_accuracy: 0.8702 - val_loss: 0.5459\n",
      "Epoch 8/10\n",
      "\u001b[1m617/617\u001b[0m \u001b[32m━━━━━━━━━━━━━━━━━━━━\u001b[0m\u001b[37m\u001b[0m \u001b[1m29s\u001b[0m 48ms/step - accuracy: 0.9834 - loss: 0.0494 - val_accuracy: 0.8794 - val_loss: 0.5460\n",
      "Epoch 9/10\n",
      "\u001b[1m617/617\u001b[0m \u001b[32m━━━━━━━━━━━━━━━━━━━━\u001b[0m\u001b[37m\u001b[0m \u001b[1m30s\u001b[0m 48ms/step - accuracy: 0.9893 - loss: 0.0325 - val_accuracy: 0.8717 - val_loss: 0.6002\n",
      "Epoch 10/10\n",
      "\u001b[1m617/617\u001b[0m \u001b[32m━━━━━━━━━━━━━━━━━━━━\u001b[0m\u001b[37m\u001b[0m \u001b[1m30s\u001b[0m 49ms/step - accuracy: 0.9876 - loss: 0.0362 - val_accuracy: 0.8755 - val_loss: 0.6197\n"
     ]
    },
    {
     "data": {
      "text/plain": [
       "<keras.src.callbacks.history.History at 0x22c6c97da50>"
      ]
     },
     "execution_count": 4,
     "metadata": {},
     "output_type": "execute_result"
    }
   ],
   "source": [
    "import tensorflow as tf\n",
    "from tensorflow.keras.models import Sequential\n",
    "from tensorflow.keras.layers import Embedding, LSTM, Dense, Dropout, Bidirectional\n",
    "\n",
    "# LSTM Model\n",
    "lstm_model = Sequential([\n",
    "    Embedding(max_vocab_size, embedding_dim, input_length=max_sequence_length),\n",
    "    Bidirectional(LSTM(64, return_sequences=True)),\n",
    "    Dropout(0.3),\n",
    "    Bidirectional(LSTM(64)),\n",
    "    Dense(32, activation='relu'),\n",
    "    Dense(3, activation='softmax')  # 3 classes\n",
    "])\n",
    "\n",
    "# Compile and Train\n",
    "lstm_model.compile(optimizer=tf.keras.optimizers.Adam(learning_rate=0.001),\n",
    "                   loss='categorical_crossentropy',\n",
    "                   metrics=['accuracy'])\n",
    "lstm_model.summary()\n",
    "lstm_model.fit(X_train, y_train, batch_size=batch_size, epochs=10, validation_split=0.2)"
   ]
  },
  {
   "cell_type": "code",
   "execution_count": 5,
   "metadata": {},
   "outputs": [
    {
     "name": "stdout",
     "output_type": "stream",
     "text": [
      "\u001b[1m193/193\u001b[0m \u001b[32m━━━━━━━━━━━━━━━━━━━━\u001b[0m\u001b[37m\u001b[0m \u001b[1m3s\u001b[0m 15ms/step\n"
     ]
    },
    {
     "data": {
      "image/png": "[encoded data removed]",
      "text/plain": [
       "<Figure size 800x600 with 2 Axes>"
      ]
     },
     "metadata": {},
     "output_type": "display_data"
    },
    {
     "name": "stdout",
     "output_type": "stream",
     "text": [
      "Classification Report:\n",
      "\n",
      "                          precision    recall  f1-score   support\n",
      "\n",
      "    Neutral or Ambiguous       0.72      0.79      0.75      1261\n",
      "Offensive or Hate Speech       0.93      0.93      0.93      3723\n",
      "                Not Hate       0.90      0.82      0.86      1181\n",
      "\n",
      "                accuracy                           0.88      6165\n",
      "               macro avg       0.85      0.84      0.85      6165\n",
      "            weighted avg       0.88      0.88      0.88      6165\n",
      "\n",
      "\n",
      "ROC-AUC Score: 0.9510\n"
     ]
    }
   ],
   "source": [
    "import numpy as np\n",
    "from sklearn.metrics import confusion_matrix, classification_report, roc_auc_score\n",
    "import seaborn as sns\n",
    "import matplotlib.pyplot as plt\n",
    "\n",
    "# Predict on test data\n",
    "y_pred_probs = lstm_model.predict(X_test, batch_size=batch_size)\n",
    "y_pred_classes = np.argmax(y_pred_probs, axis=1)  # Convert probabilities to class predictions\n",
    "y_true_classes = np.argmax(y_test, axis=1)        # Ground truth labels\n",
    "\n",
    "# Confusion Matrix\n",
    "cm = confusion_matrix(y_true_classes, y_pred_classes)\n",
    "plt.figure(figsize=(8, 6))\n",
    "sns.heatmap(cm, annot=True, fmt='d', cmap='Blues', xticklabels=label_mapping.keys(), yticklabels=label_mapping.keys())\n",
    "plt.title('Confusion Matrix')\n",
    "plt.ylabel('True Labels')\n",
    "plt.xlabel('Predicted Labels')\n",
    "plt.show()\n",
    "\n",
    "# Classification Report\n",
    "print(\"Classification Report:\\n\")\n",
    "print(classification_report(y_true_classes, y_pred_classes, target_names=label_mapping.keys()))\n",
    "\n",
    "# ROC-AUC Score\n",
    "# Compute ROC-AUC for each class\n",
    "if y_test.shape[1] > 2:  # Multiclass ROC-AUC\n",
    "    roc_auc = roc_auc_score(y_test, y_pred_probs, multi_class='ovr')\n",
    "else:  # Binary ROC-AUC\n",
    "    roc_auc = roc_auc_score(y_test[:, 1], y_pred_probs[:, 1])\n",
    "\n",
    "print(f\"\\nROC-AUC Score: {roc_auc:.4f}\")"
   ]
  },
  {
   "cell_type": "code",
   "execution_count": 6,
   "metadata": {},
   "outputs": [
    {
     "name": "stdout",
     "output_type": "stream",
     "text": [
      "\u001b[1m1/1\u001b[0m \u001b[32m━━━━━━━━━━━━━━━━━━━━\u001b[0m\u001b[37m\u001b[0m \u001b[1m0s\u001b[0m 32ms/step\n",
      "Predicted Label: Offensive or Hate Speech\n",
      "Predicted Probabilities: [0.00545773 0.9895558  0.00498642]\n"
     ]
    }
   ],
   "source": [
    "from tensorflow.keras.preprocessing.text import Tokenizer\n",
    "from tensorflow.keras.preprocessing.sequence import pad_sequences\n",
    "import numpy as np\n",
    "\n",
    "# Step 1: Define a function to preprocess and predict the label of unseen text\n",
    "def preprocess_and_predict(model, unseen_text, tokenizer, max_sequence_length=100):\n",
    "    # Tokenize the unseen text\n",
    "    sequence = tokenizer.texts_to_sequences([unseen_text])  # Convert text to sequence\n",
    "    padded_sequence = pad_sequences(sequence, maxlen=max_sequence_length, padding='post')  # Pad sequence\n",
    "    \n",
    "    # Predict class probabilities\n",
    "    y_pred_probs = model.predict(padded_sequence)\n",
    "    \n",
    "    # Get predicted class (index of the max probability)\n",
    "    y_pred_class = np.argmax(y_pred_probs, axis=1)\n",
    "    \n",
    "    # Map predicted class index back to label\n",
    "    label_mapping = {\n",
    "        0: \"Neutral or Ambiguous\",\n",
    "        1: \"Offensive or Hate Speech\",\n",
    "        2: \"Not Hate\"\n",
    "    }\n",
    "    predicted_label = label_mapping[y_pred_class[0]]\n",
    "    \n",
    "    return predicted_label, y_pred_probs[0]\n",
    "\n",
    "# Example usage:\n",
    "unseen_text = \"girls only belong to kitchen\"\n",
    "predicted_label, predicted_probs = preprocess_and_predict(lstm_model, unseen_text, tokenizer)\n",
    "\n",
    "# Print the prediction results\n",
    "print(f\"Predicted Label: {predicted_label}\")\n",
    "print(f\"Predicted Probabilities: {predicted_probs}\")\n"
   ]
  },
  {
   "cell_type": "code",
   "execution_count": 7,
   "metadata": {},
   "outputs": [
    {
     "name": "stderr",
     "output_type": "stream",
     "text": [
      "d:\\FALL2024\\DEEPLEARNING\\deeplearning project\\venv\\Lib\\site-packages\\keras\\src\\layers\\core\\embedding.py:90: UserWarning: Argument `input_length` is deprecated. Just remove it.\n",
      "  warnings.warn(\n"
     ]
    },
    {
     "data": {
      "text/html": [
       "<pre style=\"white-space:pre;overflow-x:auto;line-height:normal;font-family:Menlo,'DejaVu Sans Mono',consolas,'Courier New',monospace\"><span style=\"font-weight: bold\">Model: \"sequential_1\"</span>\n",
       "</pre>\n"
      ],
      "text/plain": [
       "\u001b[1mModel: \"sequential_1\"\u001b[0m\n"
      ]
     },
     "metadata": {},
     "output_type": "display_data"
    },
    {
     "data": {
      "text/html": [
       "<pre style=\"white-space:pre;overflow-x:auto;line-height:normal;font-family:Menlo,'DejaVu Sans Mono',consolas,'Courier New',monospace\">┏━━━━━━━━━━━━━━━━━━━━━━━━━━━━━━━━━┳━━━━━━━━━━━━━━━━━━━━━━━━┳━━━━━━━━━━━━━━━┓\n",
       "┃<span style=\"font-weight: bold\"> Layer (type)                    </span>┃<span style=\"font-weight: bold\"> Output Shape           </span>┃<span style=\"font-weight: bold\">       Param # </span>┃\n",
       "┡━━━━━━━━━━━━━━━━━━━━━━━━━━━━━━━━━╇━━━━━━━━━━━━━━━━━━━━━━━━╇━━━━━━━━━━━━━━━┩\n",
       "│ embedding_1 (<span style=\"color: #0087ff; text-decoration-color: #0087ff\">Embedding</span>)         │ ?                      │   <span style=\"color: #00af00; text-decoration-color: #00af00\">0</span> (unbuilt) │\n",
       "├─────────────────────────────────┼────────────────────────┼───────────────┤\n",
       "│ bidirectional_2 (<span style=\"color: #0087ff; text-decoration-color: #0087ff\">Bidirectional</span>) │ ?                      │   <span style=\"color: #00af00; text-decoration-color: #00af00\">0</span> (unbuilt) │\n",
       "├─────────────────────────────────┼────────────────────────┼───────────────┤\n",
       "│ conv1d (<span style=\"color: #0087ff; text-decoration-color: #0087ff\">Conv1D</span>)                 │ ?                      │   <span style=\"color: #00af00; text-decoration-color: #00af00\">0</span> (unbuilt) │\n",
       "├─────────────────────────────────┼────────────────────────┼───────────────┤\n",
       "│ max_pooling1d (<span style=\"color: #0087ff; text-decoration-color: #0087ff\">MaxPooling1D</span>)    │ ?                      │             <span style=\"color: #00af00; text-decoration-color: #00af00\">0</span> │\n",
       "├─────────────────────────────────┼────────────────────────┼───────────────┤\n",
       "│ flatten (<span style=\"color: #0087ff; text-decoration-color: #0087ff\">Flatten</span>)               │ ?                      │   <span style=\"color: #00af00; text-decoration-color: #00af00\">0</span> (unbuilt) │\n",
       "├─────────────────────────────────┼────────────────────────┼───────────────┤\n",
       "│ dense_2 (<span style=\"color: #0087ff; text-decoration-color: #0087ff\">Dense</span>)                 │ ?                      │   <span style=\"color: #00af00; text-decoration-color: #00af00\">0</span> (unbuilt) │\n",
       "├─────────────────────────────────┼────────────────────────┼───────────────┤\n",
       "│ dropout_1 (<span style=\"color: #0087ff; text-decoration-color: #0087ff\">Dropout</span>)             │ ?                      │             <span style=\"color: #00af00; text-decoration-color: #00af00\">0</span> │\n",
       "├─────────────────────────────────┼────────────────────────┼───────────────┤\n",
       "│ dense_3 (<span style=\"color: #0087ff; text-decoration-color: #0087ff\">Dense</span>)                 │ ?                      │   <span style=\"color: #00af00; text-decoration-color: #00af00\">0</span> (unbuilt) │\n",
       "└─────────────────────────────────┴────────────────────────┴───────────────┘\n",
       "</pre>\n"
      ],
      "text/plain": [
       "┏━━━━━━━━━━━━━━━━━━━━━━━━━━━━━━━━━┳━━━━━━━━━━━━━━━━━━━━━━━━┳━━━━━━━━━━━━━━━┓\n",
       "┃\u001b[1m \u001b[0m\u001b[1mLayer (type)                   \u001b[0m\u001b[1m \u001b[0m┃\u001b[1m \u001b[0m\u001b[1mOutput Shape          \u001b[0m\u001b[1m \u001b[0m┃\u001b[1m \u001b[0m\u001b[1m      Param #\u001b[0m\u001b[1m \u001b[0m┃\n",
       "┡━━━━━━━━━━━━━━━━━━━━━━━━━━━━━━━━━╇━━━━━━━━━━━━━━━━━━━━━━━━╇━━━━━━━━━━━━━━━┩\n",
       "│ embedding_1 (\u001b[38;5;33mEmbedding\u001b[0m)         │ ?                      │   \u001b[38;5;34m0\u001b[0m (unbuilt) │\n",
       "├─────────────────────────────────┼────────────────────────┼───────────────┤\n",
       "│ bidirectional_2 (\u001b[38;5;33mBidirectional\u001b[0m) │ ?                      │   \u001b[38;5;34m0\u001b[0m (unbuilt) │\n",
       "├─────────────────────────────────┼────────────────────────┼───────────────┤\n",
       "│ conv1d (\u001b[38;5;33mConv1D\u001b[0m)                 │ ?                      │   \u001b[38;5;34m0\u001b[0m (unbuilt) │\n",
       "├─────────────────────────────────┼────────────────────────┼───────────────┤\n",
       "│ max_pooling1d (\u001b[38;5;33mMaxPooling1D\u001b[0m)    │ ?                      │             \u001b[38;5;34m0\u001b[0m │\n",
       "├─────────────────────────────────┼────────────────────────┼───────────────┤\n",
       "│ flatten (\u001b[38;5;33mFlatten\u001b[0m)               │ ?                      │   \u001b[38;5;34m0\u001b[0m (unbuilt) │\n",
       "├─────────────────────────────────┼────────────────────────┼───────────────┤\n",
       "│ dense_2 (\u001b[38;5;33mDense\u001b[0m)                 │ ?                      │   \u001b[38;5;34m0\u001b[0m (unbuilt) │\n",
       "├─────────────────────────────────┼────────────────────────┼───────────────┤\n",
       "│ dropout_1 (\u001b[38;5;33mDropout\u001b[0m)             │ ?                      │             \u001b[38;5;34m0\u001b[0m │\n",
       "├─────────────────────────────────┼────────────────────────┼───────────────┤\n",
       "│ dense_3 (\u001b[38;5;33mDense\u001b[0m)                 │ ?                      │   \u001b[38;5;34m0\u001b[0m (unbuilt) │\n",
       "└─────────────────────────────────┴────────────────────────┴───────────────┘\n"
      ]
     },
     "metadata": {},
     "output_type": "display_data"
    },
    {
     "data": {
      "text/html": [
       "<pre style=\"white-space:pre;overflow-x:auto;line-height:normal;font-family:Menlo,'DejaVu Sans Mono',consolas,'Courier New',monospace\"><span style=\"font-weight: bold\"> Total params: </span><span style=\"color: #00af00; text-decoration-color: #00af00\">0</span> (0.00 B)\n",
       "</pre>\n"
      ],
      "text/plain": [
       "\u001b[1m Total params: \u001b[0m\u001b[38;5;34m0\u001b[0m (0.00 B)\n"
      ]
     },
     "metadata": {},
     "output_type": "display_data"
    },
    {
     "data": {
      "text/html": [
       "<pre style=\"white-space:pre;overflow-x:auto;line-height:normal;font-family:Menlo,'DejaVu Sans Mono',consolas,'Courier New',monospace\"><span style=\"font-weight: bold\"> Trainable params: </span><span style=\"color: #00af00; text-decoration-color: #00af00\">0</span> (0.00 B)\n",
       "</pre>\n"
      ],
      "text/plain": [
       "\u001b[1m Trainable params: \u001b[0m\u001b[38;5;34m0\u001b[0m (0.00 B)\n"
      ]
     },
     "metadata": {},
     "output_type": "display_data"
    },
    {
     "data": {
      "text/html": [
       "<pre style=\"white-space:pre;overflow-x:auto;line-height:normal;font-family:Menlo,'DejaVu Sans Mono',consolas,'Courier New',monospace\"><span style=\"font-weight: bold\"> Non-trainable params: </span><span style=\"color: #00af00; text-decoration-color: #00af00\">0</span> (0.00 B)\n",
       "</pre>\n"
      ],
      "text/plain": [
       "\u001b[1m Non-trainable params: \u001b[0m\u001b[38;5;34m0\u001b[0m (0.00 B)\n"
      ]
     },
     "metadata": {},
     "output_type": "display_data"
    },
    {
     "name": "stdout",
     "output_type": "stream",
     "text": [
      "Epoch 1/10\n",
      "\u001b[1m617/617\u001b[0m \u001b[32m━━━━━━━━━━━━━━━━━━━━\u001b[0m\u001b[37m\u001b[0m \u001b[1m22s\u001b[0m 31ms/step - accuracy: 0.7021 - loss: 0.6861 - val_accuracy: 0.8226 - val_loss: 0.4275\n",
      "Epoch 2/10\n",
      "\u001b[1m617/617\u001b[0m \u001b[32m━━━━━━━━━━━━━━━━━━━━\u001b[0m\u001b[37m\u001b[0m \u001b[1m18s\u001b[0m 30ms/step - accuracy: 0.8623 - loss: 0.3609 - val_accuracy: 0.8613 - val_loss: 0.3725\n",
      "Epoch 3/10\n",
      "\u001b[1m617/617\u001b[0m \u001b[32m━━━━━━━━━━━━━━━━━━━━\u001b[0m\u001b[37m\u001b[0m \u001b[1m19s\u001b[0m 30ms/step - accuracy: 0.9250 - loss: 0.2157 - val_accuracy: 0.8581 - val_loss: 0.4101\n",
      "Epoch 4/10\n",
      "\u001b[1m617/617\u001b[0m \u001b[32m━━━━━━━━━━━━━━━━━━━━\u001b[0m\u001b[37m\u001b[0m \u001b[1m19s\u001b[0m 31ms/step - accuracy: 0.9472 - loss: 0.1447 - val_accuracy: 0.8765 - val_loss: 0.5176\n",
      "Epoch 5/10\n",
      "\u001b[1m617/617\u001b[0m \u001b[32m━━━━━━━━━━━━━━━━━━━━\u001b[0m\u001b[37m\u001b[0m \u001b[1m19s\u001b[0m 31ms/step - accuracy: 0.9682 - loss: 0.0901 - val_accuracy: 0.8733 - val_loss: 0.5810\n",
      "Epoch 6/10\n",
      "\u001b[1m617/617\u001b[0m \u001b[32m━━━━━━━━━━━━━━━━━━━━\u001b[0m\u001b[37m\u001b[0m \u001b[1m19s\u001b[0m 31ms/step - accuracy: 0.9766 - loss: 0.0683 - val_accuracy: 0.8741 - val_loss: 0.6530\n",
      "Epoch 7/10\n",
      "\u001b[1m617/617\u001b[0m \u001b[32m━━━━━━━━━━━━━━━━━━━━\u001b[0m\u001b[37m\u001b[0m \u001b[1m20s\u001b[0m 32ms/step - accuracy: 0.9799 - loss: 0.0566 - val_accuracy: 0.8824 - val_loss: 0.8097\n",
      "Epoch 8/10\n",
      "\u001b[1m617/617\u001b[0m \u001b[32m━━━━━━━━━━━━━━━━━━━━\u001b[0m\u001b[37m\u001b[0m \u001b[1m19s\u001b[0m 31ms/step - accuracy: 0.9852 - loss: 0.0421 - val_accuracy: 0.8741 - val_loss: 0.9894\n",
      "Epoch 9/10\n",
      "\u001b[1m617/617\u001b[0m \u001b[32m━━━━━━━━━━━━━━━━━━━━\u001b[0m\u001b[37m\u001b[0m \u001b[1m20s\u001b[0m 32ms/step - accuracy: 0.9882 - loss: 0.0381 - val_accuracy: 0.8779 - val_loss: 1.2475\n",
      "Epoch 10/10\n",
      "\u001b[1m617/617\u001b[0m \u001b[32m━━━━━━━━━━━━━━━━━━━━\u001b[0m\u001b[37m\u001b[0m \u001b[1m20s\u001b[0m 33ms/step - accuracy: 0.9906 - loss: 0.0294 - val_accuracy: 0.8743 - val_loss: 0.9489\n"
     ]
    },
    {
     "data": {
      "text/plain": [
       "<keras.src.callbacks.history.History at 0x22c78bd2f90>"
      ]
     },
     "execution_count": 7,
     "metadata": {},
     "output_type": "execute_result"
    }
   ],
   "source": [
    "from tensorflow.keras.models import Sequential\n",
    "from tensorflow.keras.layers import Embedding, LSTM, Conv1D, MaxPooling1D, Flatten, Dense, Dropout, Bidirectional\n",
    "\n",
    "# Define the LSTM+CNN model\n",
    "lstm_cnn_model = Sequential([\n",
    "    # Embedding Layer\n",
    "    Embedding(max_vocab_size, embedding_dim, input_length=max_sequence_length),\n",
    "    \n",
    "    # Bidirectional LSTM Layer\n",
    "    Bidirectional(LSTM(64, return_sequences=True)),  # Outputs sequences\n",
    "    \n",
    "    # Convolutional Layer\n",
    "    Conv1D(filters=128, kernel_size=5, activation='relu'),  # Kernel size defines the \"n-gram\" size\n",
    "    MaxPooling1D(pool_size=2),  # Reduces dimensionality\n",
    "    \n",
    "    # Flatten to feed into Dense Layers\n",
    "    Flatten(),\n",
    "    \n",
    "    # Fully Connected Layer\n",
    "    Dense(64, activation='relu'),\n",
    "    Dropout(0.5),  # To prevent overfitting\n",
    "    \n",
    "    # Output Layer\n",
    "    Dense(3, activation='softmax')  # 3 classes\n",
    "])\n",
    "\n",
    "# Compile the model\n",
    "lstm_cnn_model.compile(optimizer=tf.keras.optimizers.Adam(learning_rate=0.001),\n",
    "                       loss='categorical_crossentropy',\n",
    "                       metrics=['accuracy'])\n",
    "\n",
    "# Model Summary\n",
    "lstm_cnn_model.summary()\n",
    "\n",
    "# Train the model\n",
    "lstm_cnn_model.fit(X_train, y_train, batch_size=batch_size, epochs=10, validation_split=0.2)\n"
   ]
  },
  {
   "cell_type": "code",
   "execution_count": 8,
   "metadata": {},
   "outputs": [
    {
     "name": "stdout",
     "output_type": "stream",
     "text": [
      "\u001b[1m193/193\u001b[0m \u001b[32m━━━━━━━━━━━━━━━━━━━━\u001b[0m\u001b[37m\u001b[0m \u001b[1m2s\u001b[0m 11ms/step - accuracy: 0.8805 - loss: 0.8861\n",
      "Test Loss: 0.9161, Test Accuracy: 0.8761\n",
      "\u001b[1m193/193\u001b[0m \u001b[32m━━━━━━━━━━━━━━━━━━━━\u001b[0m\u001b[37m\u001b[0m \u001b[1m2s\u001b[0m 11ms/step\n"
     ]
    },
    {
     "data": {
      "image/png": "[encoded data removed]",
      "text/plain": [
       "<Figure size 800x600 with 2 Axes>"
      ]
     },
     "metadata": {},
     "output_type": "display_data"
    },
    {
     "name": "stdout",
     "output_type": "stream",
     "text": [
      "Classification Report:\n",
      "\n",
      "                          precision    recall  f1-score   support\n",
      "\n",
      "    Neutral or Ambiguous       0.74      0.76      0.75      1261\n",
      "Offensive or Hate Speech       0.93      0.92      0.92      3723\n",
      "                Not Hate       0.87      0.86      0.86      1181\n",
      "\n",
      "                accuracy                           0.88      6165\n",
      "               macro avg       0.84      0.85      0.85      6165\n",
      "            weighted avg       0.88      0.88      0.88      6165\n",
      "\n",
      "ROC-AUC Score: 0.9500\n"
     ]
    }
   ],
   "source": [
    "from sklearn.metrics import classification_report, confusion_matrix, roc_auc_score\n",
    "import seaborn as sns\n",
    "import matplotlib.pyplot as plt\n",
    "import numpy as np\n",
    "\n",
    "# Evaluate the model on test data\n",
    "test_loss, test_accuracy = lstm_cnn_model.evaluate(X_test, y_test, batch_size=batch_size)\n",
    "print(f\"Test Loss: {test_loss:.4f}, Test Accuracy: {test_accuracy:.4f}\")\n",
    "\n",
    "# Predictions on test data\n",
    "y_pred_probs = lstm_cnn_model.predict(X_test, batch_size=batch_size)\n",
    "y_pred_classes = np.argmax(y_pred_probs, axis=1)  # Predicted class labels\n",
    "y_true_classes = np.argmax(y_test, axis=1)        # True class labels\n",
    "\n",
    "# Confusion Matrix\n",
    "cm = confusion_matrix(y_true_classes, y_pred_classes)\n",
    "plt.figure(figsize=(8, 6))\n",
    "sns.heatmap(cm, annot=True, fmt='d', cmap='Blues', xticklabels=label_mapping.keys(), yticklabels=label_mapping.keys())\n",
    "plt.title('Confusion Matrix')\n",
    "plt.ylabel('True Labels')\n",
    "plt.xlabel('Predicted Labels')\n",
    "plt.show()\n",
    "\n",
    "# Classification Report\n",
    "print(\"Classification Report:\\n\")\n",
    "print(classification_report(y_true_classes, y_pred_classes, target_names=label_mapping.keys()))\n",
    "\n",
    "# ROC-AUC Score\n",
    "if y_test.shape[1] > 2:  # Multiclass ROC-AUC\n",
    "    roc_auc = roc_auc_score(y_test, y_pred_probs, multi_class='ovr')\n",
    "else:  # Binary ROC-AUC\n",
    "    roc_auc = roc_auc_score(y_test[:, 1], y_pred_probs[:, 1])\n",
    "print(f\"ROC-AUC Score: {roc_auc:.4f}\")\n"
   ]
  },
  {
   "cell_type": "code",
   "execution_count": 9,
   "metadata": {},
   "outputs": [
    {
     "name": "stdout",
     "output_type": "stream",
     "text": [
      "\u001b[1m1/1\u001b[0m \u001b[32m━━━━━━━━━━━━━━━━━━━━\u001b[0m\u001b[37m\u001b[0m \u001b[1m0s\u001b[0m 29ms/step\n",
      "Text: I completely disagree with this view!\n",
      "Predicted Label: Not Hate (Confidence: 1.0000)\n",
      "\n",
      "Text: What a beautiful day!\n",
      "Predicted Label: Neutral or Ambiguous (Confidence: 0.7099)\n",
      "\n",
      "Text: You are absolutely horrible and disgusting!\n",
      "Predicted Label: Neutral or Ambiguous (Confidence: 0.6691)\n",
      "\n",
      "Text: america is fucking filthy nation filled with dirty politics\n",
      "Predicted Label: Offensive or Hate Speech (Confidence: 0.9000)\n",
      "\n"
     ]
    }
   ],
   "source": [
    "# Example of unseen text\n",
    "unseen_texts = [\n",
    "    \"I completely disagree with this view!\",\n",
    "    \"What a beautiful day!\",\n",
    "    \"You are absolutely horrible and disgusting!\",\n",
    "    \"america is fucking filthy nation filled with dirty politics\"\n",
    "]\n",
    "\n",
    "# Preprocess unseen text\n",
    "unseen_sequences = tokenizer.texts_to_sequences(unseen_texts)\n",
    "unseen_padded = pad_sequences(unseen_sequences, maxlen=max_sequence_length, padding='post')\n",
    "\n",
    "# Predict using the trained model\n",
    "unseen_pred_probs = lstm_cnn_model.predict(unseen_padded)\n",
    "unseen_pred_classes = np.argmax(unseen_pred_probs, axis=1)  # Get class predictions\n",
    "\n",
    "# Map predicted labels back to original class names\n",
    "predicted_labels = [list(label_mapping.keys())[label] for label in unseen_pred_classes]\n",
    "\n",
    "# Print results\n",
    "for i, text in enumerate(unseen_texts):\n",
    "    print(f\"Text: {text}\")\n",
    "    print(f\"Predicted Label: {predicted_labels[i]} (Confidence: {max(unseen_pred_probs[i]):.4f})\\n\")\n"
   ]
  },
  {
   "cell_type": "code",
   "execution_count": 18,
   "metadata": {},
   "outputs": [
    {
     "name": "stderr",
     "output_type": "stream",
     "text": [
      "WARNING:absl:You are saving your model as an HDF5 file via `model.save()` or `keras.saving.save_model(model)`. This file format is considered legacy. We recommend using instead the native Keras format, e.g. `model.save('my_model.keras')` or `keras.saving.save_model(model, 'my_model.keras')`. \n"
     ]
    }
   ],
   "source": [
    "lstm_cnn_model.save(\"final_model.h5\")"
   ]
  },
  {
   "cell_type": "code",
   "execution_count": 10,
   "metadata": {},
   "outputs": [],
   "source": [
    "from transformers import BertTokenizer, TFBertForSequenceClassification, create_optimizer\n",
    "from sklearn.model_selection import train_test_split\n",
    "import tensorflow as tf\n",
    "import pandas as pd\n",
    "\n",
    "# Load the BERT tokenizer\n",
    "tokenizer = BertTokenizer.from_pretrained(\"bert-base-uncased\")\n",
    "\n",
    "# Function to preprocess texts\n",
    "def preprocess_texts(texts, tokenizer, max_length=128):\n",
    "    return tokenizer(\n",
    "        texts.tolist(),\n",
    "        padding=True,\n",
    "        truncation=True,\n",
    "        max_length=max_length,\n",
    "        return_tensors=\"tf\"\n",
    "    )\n",
    "\n",
    "\n",
    "\n",
    "# Encode labels as integers\n",
    "label_mapping = {\n",
    "    \"Neutral or Ambiguous\": 0,\n",
    "    \"Offensive or Hate Speech\": 1,\n",
    "    \"Not Hate\": 2\n",
    "}\n",
    "df[\"labels_encoded\"] = df[\"labels\"].map(label_mapping)\n",
    "\n",
    "# Train-test split\n",
    "X_train, X_test, y_train, y_test = train_test_split(\n",
    "    df[\"tweet\"], df[\"labels_encoded\"], test_size=0.2, random_state=42\n",
    ")\n",
    "\n",
    "# Preprocess the text data\n",
    "train_encodings = preprocess_texts(X_train, tokenizer)\n",
    "test_encodings = preprocess_texts(X_test, tokenizer)\n",
    "\n",
    "# Convert labels to TensorFlow tensors\n",
    "train_labels = tf.convert_to_tensor(y_train.values)\n",
    "test_labels = tf.convert_to_tensor(y_test.values)"
   ]
  },
  {
   "cell_type": "code",
   "execution_count": 11,
   "metadata": {},
   "outputs": [
    {
     "name": "stdout",
     "output_type": "stream",
     "text": [
      "WARNING:tensorflow:From d:\\FALL2024\\DEEPLEARNING\\deeplearning project\\venv\\Lib\\site-packages\\tf_keras\\src\\backend.py:873: The name tf.get_default_graph is deprecated. Please use tf.compat.v1.get_default_graph instead.\n",
      "\n"
     ]
    },
    {
     "name": "stderr",
     "output_type": "stream",
     "text": [
      "All PyTorch model weights were used when initializing TFBertForSequenceClassification.\n",
      "\n",
      "Some weights or buffers of the TF 2.0 model TFBertForSequenceClassification were not initialized from the PyTorch model and are newly initialized: ['classifier.weight', 'classifier.bias']\n",
      "You should probably TRAIN this model on a down-stream task to be able to use it for predictions and inference.\n"
     ]
    }
   ],
   "source": [
    "# Load BERT model for classification\n",
    "model = TFBertForSequenceClassification.from_pretrained(\n",
    "    \"bert-base-uncased\", num_labels=3\n",
    ")\n",
    "\n",
    "# Create an optimizer using Hugging Face's helper\n",
    "batch_size = 16\n",
    "epochs = 3\n",
    "learning_rate = 5e-5\n",
    "num_train_steps = len(train_encodings[\"input_ids\"]) // batch_size * epochs\n",
    "num_warmup_steps = int(0.1 * num_train_steps)\n",
    "\n",
    "optimizer, schedule = create_optimizer(\n",
    "    init_lr=learning_rate,\n",
    "    num_train_steps=num_train_steps,\n",
    "    num_warmup_steps=num_warmup_steps\n",
    ")\n",
    "\n",
    "# Compile the model\n",
    "model.compile(\n",
    "    optimizer=optimizer,\n",
    "    loss=tf.keras.losses.SparseCategoricalCrossentropy(from_logits=True),\n",
    "    metrics=[\"accuracy\"]\n",
    ")"
   ]
  },
  {
   "cell_type": "code",
   "execution_count": 12,
   "metadata": {},
   "outputs": [
    {
     "name": "stdout",
     "output_type": "stream",
     "text": [
      "Epoch 1/3\n",
      "WARNING:tensorflow:From d:\\FALL2024\\DEEPLEARNING\\deeplearning project\\venv\\Lib\\site-packages\\tf_keras\\src\\utils\\tf_utils.py:492: The name tf.ragged.RaggedTensorValue is deprecated. Please use tf.compat.v1.ragged.RaggedTensorValue instead.\n",
      "\n",
      "WARNING:tensorflow:From d:\\FALL2024\\DEEPLEARNING\\deeplearning project\\venv\\Lib\\site-packages\\tf_keras\\src\\engine\\base_layer_utils.py:384: The name tf.executing_eagerly_outside_functions is deprecated. Please use tf.compat.v1.executing_eagerly_outside_functions instead.\n",
      "\n",
      "1233/1233 [==============================] - 4135s 3s/step - loss: 0.4942 - accuracy: 0.7899 - val_loss: 0.3313 - val_accuracy: 0.8686\n",
      "Epoch 2/3\n",
      "1233/1233 [==============================] - 4431s 4s/step - loss: 0.2421 - accuracy: 0.9113 - val_loss: 0.2738 - val_accuracy: 0.9124\n",
      "Epoch 3/3\n",
      "1233/1233 [==============================] - 5635s 5s/step - loss: 0.0913 - accuracy: 0.9705 - val_loss: 0.2959 - val_accuracy: 0.9268\n",
      "193/193 [==============================] - 282s 1s/step - loss: 0.2773 - accuracy: 0.9247\n",
      "Test Loss: 0.2772904932498932, Test Accuracy: 0.9247364401817322\n",
      "1/1 [==============================] - 3s 3s/step\n",
      "Text: This is a neutral statement. -> Prediction: Neutral or Ambiguous\n",
      "Text: This might be offensive. -> Prediction: Neutral or Ambiguous\n"
     ]
    }
   ],
   "source": [
    "# Train the model\n",
    "history = model.fit(\n",
    "    x={\"input_ids\": train_encodings[\"input_ids\"], \"attention_mask\": train_encodings[\"attention_mask\"]},\n",
    "    y=train_labels,\n",
    "    validation_split=0.2,\n",
    "    epochs=epochs,\n",
    "    batch_size=batch_size\n",
    ")\n",
    "\n",
    "# Evaluate the model\n",
    "evaluation = model.evaluate(\n",
    "    x={\"input_ids\": test_encodings[\"input_ids\"], \"attention_mask\": test_encodings[\"attention_mask\"]},\n",
    "    y=test_labels\n",
    ")\n",
    "\n",
    "print(f\"Test Loss: {evaluation[0]}, Test Accuracy: {evaluation[1]}\")\n",
    "\n",
    "# Predictions on unseen text\n",
    "unseen_texts = [\"This is a neutral statement.\", \"This might be offensive.\"]\n",
    "unseen_encodings = preprocess_texts(pd.Series(unseen_texts), tokenizer)\n",
    "\n",
    "predictions = model.predict(\n",
    "    {\"input_ids\": unseen_encodings[\"input_ids\"], \"attention_mask\": unseen_encodings[\"attention_mask\"]}\n",
    ").logits\n",
    "\n",
    "predicted_classes = tf.argmax(predictions, axis=1).numpy()\n",
    "predicted_labels = [list(label_mapping.keys())[list(label_mapping.values()).index(c)] for c in predicted_classes]\n",
    "\n",
    "# Output predictions for unseen texts\n",
    "for text, label in zip(unseen_texts, predicted_labels):\n",
    "    print(f\"Text: {text} -> Prediction: {label}\")"
   ]
  },
  {
   "cell_type": "code",
   "execution_count": 17,
   "metadata": {},
   "outputs": [
    {
     "name": "stdout",
     "output_type": "stream",
     "text": [
      "1/1 [==============================] - 0s 62ms/step\n",
      "Text: I completely disagree with this view! -> Prediction: Neutral or Ambiguous\n",
      "Text: What a beautiful day! -> Prediction: Neutral or Ambiguous\n",
      "Text: You are absolutely horrible and disgusting! -> Prediction: Neutral or Ambiguous\n",
      "Text: america is fucking filthy nation filled with dirty politics -> Prediction: Offensive or Hate Speech\n",
      "Text: All the gays should be hanged to death -> Prediction: Offensive or Hate Speech\n"
     ]
    }
   ],
   "source": [
    "\n",
    "# Predictions on unseen text\n",
    "unseen_texts = [\n",
    "    \"I completely disagree with this view!\",\n",
    "    \"What a beautiful day!\",\n",
    "    \"You are absolutely horrible and disgusting!\",\n",
    "    \"america is fucking filthy nation filled with dirty politics\",\n",
    "    \"All the gays should be hanged to death\"\n",
    "]\n",
    "\n",
    "unseen_encodings = preprocess_texts(pd.Series(unseen_texts), tokenizer)\n",
    "\n",
    "predictions = model.predict(\n",
    "    {\"input_ids\": unseen_encodings[\"input_ids\"], \"attention_mask\": unseen_encodings[\"attention_mask\"]}\n",
    ").logits\n",
    "\n",
    "predicted_classes = tf.argmax(predictions, axis=1).numpy()\n",
    "predicted_labels = [list(label_mapping.keys())[list(label_mapping.values()).index(c)] for c in predicted_classes]\n",
    "\n",
    "# Output predictions for unseen texts\n",
    "for text, label in zip(unseen_texts, predicted_labels):\n",
    "    print(f\"Text: {text} -> Prediction: {label}\")"
   ]
  },
  {
   "cell_type": "code",
   "execution_count": null,
   "metadata": {},
   "outputs": [],
   "source": []
  },
  {
   "cell_type": "code",
   "execution_count": null,
   "metadata": {},
   "outputs": [],
   "source": []
  }
 ],
 "metadata": {
  "kernelspec": {
   "display_name": "Python 3 (ipykernel)",
   "language": "python",
   "name": "python3"
  },
  "language_info": {
   "codemirror_mode": {
    "name": "ipython",
    "version": 3
   },
   "file_extension": ".py",
   "mimetype": "text/x-python",
   "name": "python",
   "nbconvert_exporter": "python",
   "pygments_lexer": "ipython3",
   "version": "3.11.7"
  }
 },
 "nbformat": 4,
 "nbformat_minor": 4
}
