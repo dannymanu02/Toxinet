{
 "cells": [
  {
   "cell_type": "code",
   "execution_count": 1,
   "metadata": {},
   "outputs": [],
   "source": [
    "# hate_speech_detection.py\n",
    "\n",
    "import pandas as pd\n",
    "import numpy as np\n",
    "import re\n",
    "import matplotlib.pyplot as plt\n",
    "import seaborn as sns\n",
    "\n",
    "from sklearn.model_selection import train_test_split\n",
    "from sklearn.preprocessing import LabelEncoder\n",
    "from sklearn.metrics import classification_report, confusion_matrix, roc_auc_score\n",
    "\n",
    "import tensorflow as tf\n",
    "from tensorflow.keras.models import Sequential\n",
    "from tensorflow.keras.layers import Embedding, LSTM, Dense, Dropout, Bidirectional, Conv1D, MaxPooling1D, Flatten\n",
    "from tensorflow.keras.preprocessing.text import Tokenizer\n",
    "from tensorflow.keras.preprocessing.sequence import pad_sequences\n",
    "from tensorflow.keras.utils import to_categorical\n",
    "\n",
    "# from transformers import BertTokenizer, TFBertForSequenceClassification, create_optimizer\n",
    "\n",
    "import joblib  # For saving Tokenizer"
   ]
  },
  {
   "cell_type": "code",
   "execution_count": 7,
   "metadata": {},
   "outputs": [
    {
     "name": "stdout",
     "output_type": "stream",
     "text": [
      "Initial Data:\n",
      "          username                                              tweet  \\\n",
      "0    @mayasolovely  RT As a woman you shouldnt complain about clea...   \n",
      "1         @mleew17  RT boy dats coldtyga dwn bad for cuffin dat ho...   \n",
      "2   @UrKindOfBrand  RT Dawg RT You ever fuck a bitch and she start...   \n",
      "3    @C_G_Anderson                          RT she look like a tranny   \n",
      "4  @ShenikaRoberts  RT The shit you hear about me might be true or...   \n",
      "\n",
      "                     labels  \n",
      "0      Neutral or Ambiguous  \n",
      "1  Offensive or Hate Speech  \n",
      "2  Offensive or Hate Speech  \n",
      "3  Offensive or Hate Speech  \n",
      "4  Offensive or Hate Speech  \n",
      "\n",
      "Missing Values:\n",
      "tweet     0\n",
      "labels    0\n",
      "dtype: int64\n"
     ]
    },
    {
     "data": {
      "text/plain": [
       "['label_encoder.pkl']"
      ]
     },
     "execution_count": 7,
     "metadata": {},
     "output_type": "execute_result"
    }
   ],
   "source": [
    "# Load the cleaned dataset\n",
    "df = pd.read_csv(\"cleaned_twitter_data.csv\")\n",
    "\n",
    "# Display the first few rows\n",
    "print(\"Initial Data:\")\n",
    "print(df.head())\n",
    "\n",
    "df.drop(\"username\", axis = 1, inplace=True)\n",
    "\n",
    "# Check for missing values\n",
    "print(\"\\nMissing Values:\")\n",
    "print(df.isnull().sum())\n",
    "\n",
    "# Drop missing values if any\n",
    "df.dropna(inplace=True)\n",
    "\n",
    "# Encode labels\n",
    "label_mapping = {\n",
    "    \"Neutral or Ambiguous\": 0,\n",
    "    \"Offensive or Hate Speech\": 1,\n",
    "    \"Not Hate\": 2\n",
    "}\n",
    "df[\"labels_encoded\"] = df[\"labels\"].map(label_mapping)\n",
    "\n",
    "# Save the label mapping for later use\n",
    "label_encoder = LabelEncoder()\n",
    "label_encoder.fit(df['labels'])\n",
    "joblib.dump(label_encoder, 'label_encoder.pkl')"
   ]
  },
  {
   "cell_type": "code",
   "execution_count": 9,
   "metadata": {},
   "outputs": [
    {
     "name": "stdout",
     "output_type": "stream",
     "text": [
      "\n",
      "Training samples: 194190, Test samples: 48548\n"
     ]
    }
   ],
   "source": [
    "# Define features and labels\n",
    "X = df['tweet']\n",
    "y = df['labels_encoded']\n",
    "\n",
    "# Split the data into training and testing sets\n",
    "X_train, X_test, y_train, y_test = train_test_split(\n",
    "    X, y, test_size=0.2, random_state=42, stratify=y\n",
    ")\n",
    "\n",
    "print(f\"\\nTraining samples: {len(X_train)}, Test samples: {len(X_test)}\")"
   ]
  },
  {
   "cell_type": "code",
   "execution_count": 10,
   "metadata": {},
   "outputs": [],
   "source": [
    "# Hyperparameters\n",
    "max_vocab_size = 10000\n",
    "max_sequence_length = 100\n",
    "embedding_dim = 100\n",
    "batch_size = 32\n",
    "\n",
    "# Initialize Tokenizer\n",
    "tokenizer_lstm = Tokenizer(num_words=max_vocab_size, oov_token=\"<OOV>\")\n",
    "tokenizer_lstm.fit_on_texts(X_train)\n",
    "\n",
    "# Save the tokenizer for later use\n",
    "joblib.dump(tokenizer_lstm, 'tokenizer_lstm.pkl')\n",
    "\n",
    "# Convert texts to sequences\n",
    "X_train_seq = tokenizer_lstm.texts_to_sequences(X_train)\n",
    "X_test_seq = tokenizer_lstm.texts_to_sequences(X_test)\n",
    "\n",
    "# Pad sequences\n",
    "X_train_padded = pad_sequences(X_train_seq, maxlen=max_sequence_length, padding='post', truncating='post')\n",
    "X_test_padded = pad_sequences(X_test_seq, maxlen=max_sequence_length, padding='post', truncating='post')\n",
    "\n",
    "# One-hot encode labels for LSTM models\n",
    "y_train_lstm = to_categorical(y_train, num_classes=3)\n",
    "y_test_lstm = to_categorical(y_test, num_classes=3)"
   ]
  },
  {
   "cell_type": "code",
   "execution_count": 11,
   "metadata": {},
   "outputs": [
    {
     "name": "stderr",
     "output_type": "stream",
     "text": [
      "/Users/manojdannana/anaconda3/lib/python3.11/site-packages/keras/src/layers/core/embedding.py:90: UserWarning: Argument `input_length` is deprecated. Just remove it.\n",
      "  warnings.warn(\n"
     ]
    },
    {
     "name": "stdout",
     "output_type": "stream",
     "text": [
      "\n",
      "LSTM Model Summary:\n"
     ]
    },
    {
     "data": {
      "text/html": [
       "<pre style=\"white-space:pre;overflow-x:auto;line-height:normal;font-family:Menlo,'DejaVu Sans Mono',consolas,'Courier New',monospace\"><span style=\"font-weight: bold\">Model: \"sequential\"</span>\n",
       "</pre>\n"
      ],
      "text/plain": [
       "\u001b[1mModel: \"sequential\"\u001b[0m\n"
      ]
     },
     "metadata": {},
     "output_type": "display_data"
    },
    {
     "data": {
      "text/html": [
       "<pre style=\"white-space:pre;overflow-x:auto;line-height:normal;font-family:Menlo,'DejaVu Sans Mono',consolas,'Courier New',monospace\">┏━━━━━━━━━━━━━━━━━━━━━━━━━━━━━━━━━┳━━━━━━━━━━━━━━━━━━━━━━━━┳━━━━━━━━━━━━━━━┓\n",
       "┃<span style=\"font-weight: bold\"> Layer (type)                    </span>┃<span style=\"font-weight: bold\"> Output Shape           </span>┃<span style=\"font-weight: bold\">       Param # </span>┃\n",
       "┡━━━━━━━━━━━━━━━━━━━━━━━━━━━━━━━━━╇━━━━━━━━━━━━━━━━━━━━━━━━╇━━━━━━━━━━━━━━━┩\n",
       "│ embedding (<span style=\"color: #0087ff; text-decoration-color: #0087ff\">Embedding</span>)           │ ?                      │   <span style=\"color: #00af00; text-decoration-color: #00af00\">0</span> (unbuilt) │\n",
       "├─────────────────────────────────┼────────────────────────┼───────────────┤\n",
       "│ bidirectional (<span style=\"color: #0087ff; text-decoration-color: #0087ff\">Bidirectional</span>)   │ ?                      │   <span style=\"color: #00af00; text-decoration-color: #00af00\">0</span> (unbuilt) │\n",
       "├─────────────────────────────────┼────────────────────────┼───────────────┤\n",
       "│ dropout (<span style=\"color: #0087ff; text-decoration-color: #0087ff\">Dropout</span>)               │ ?                      │             <span style=\"color: #00af00; text-decoration-color: #00af00\">0</span> │\n",
       "├─────────────────────────────────┼────────────────────────┼───────────────┤\n",
       "│ dense (<span style=\"color: #0087ff; text-decoration-color: #0087ff\">Dense</span>)                   │ ?                      │   <span style=\"color: #00af00; text-decoration-color: #00af00\">0</span> (unbuilt) │\n",
       "├─────────────────────────────────┼────────────────────────┼───────────────┤\n",
       "│ dense_1 (<span style=\"color: #0087ff; text-decoration-color: #0087ff\">Dense</span>)                 │ ?                      │   <span style=\"color: #00af00; text-decoration-color: #00af00\">0</span> (unbuilt) │\n",
       "└─────────────────────────────────┴────────────────────────┴───────────────┘\n",
       "</pre>\n"
      ],
      "text/plain": [
       "┏━━━━━━━━━━━━━━━━━━━━━━━━━━━━━━━━━┳━━━━━━━━━━━━━━━━━━━━━━━━┳━━━━━━━━━━━━━━━┓\n",
       "┃\u001b[1m \u001b[0m\u001b[1mLayer (type)                   \u001b[0m\u001b[1m \u001b[0m┃\u001b[1m \u001b[0m\u001b[1mOutput Shape          \u001b[0m\u001b[1m \u001b[0m┃\u001b[1m \u001b[0m\u001b[1m      Param #\u001b[0m\u001b[1m \u001b[0m┃\n",
       "┡━━━━━━━━━━━━━━━━━━━━━━━━━━━━━━━━━╇━━━━━━━━━━━━━━━━━━━━━━━━╇━━━━━━━━━━━━━━━┩\n",
       "│ embedding (\u001b[38;5;33mEmbedding\u001b[0m)           │ ?                      │   \u001b[38;5;34m0\u001b[0m (unbuilt) │\n",
       "├─────────────────────────────────┼────────────────────────┼───────────────┤\n",
       "│ bidirectional (\u001b[38;5;33mBidirectional\u001b[0m)   │ ?                      │   \u001b[38;5;34m0\u001b[0m (unbuilt) │\n",
       "├─────────────────────────────────┼────────────────────────┼───────────────┤\n",
       "│ dropout (\u001b[38;5;33mDropout\u001b[0m)               │ ?                      │             \u001b[38;5;34m0\u001b[0m │\n",
       "├─────────────────────────────────┼────────────────────────┼───────────────┤\n",
       "│ dense (\u001b[38;5;33mDense\u001b[0m)                   │ ?                      │   \u001b[38;5;34m0\u001b[0m (unbuilt) │\n",
       "├─────────────────────────────────┼────────────────────────┼───────────────┤\n",
       "│ dense_1 (\u001b[38;5;33mDense\u001b[0m)                 │ ?                      │   \u001b[38;5;34m0\u001b[0m (unbuilt) │\n",
       "└─────────────────────────────────┴────────────────────────┴───────────────┘\n"
      ]
     },
     "metadata": {},
     "output_type": "display_data"
    },
    {
     "data": {
      "text/html": [
       "<pre style=\"white-space:pre;overflow-x:auto;line-height:normal;font-family:Menlo,'DejaVu Sans Mono',consolas,'Courier New',monospace\"><span style=\"font-weight: bold\"> Total params: </span><span style=\"color: #00af00; text-decoration-color: #00af00\">0</span> (0.00 B)\n",
       "</pre>\n"
      ],
      "text/plain": [
       "\u001b[1m Total params: \u001b[0m\u001b[38;5;34m0\u001b[0m (0.00 B)\n"
      ]
     },
     "metadata": {},
     "output_type": "display_data"
    },
    {
     "data": {
      "text/html": [
       "<pre style=\"white-space:pre;overflow-x:auto;line-height:normal;font-family:Menlo,'DejaVu Sans Mono',consolas,'Courier New',monospace\"><span style=\"font-weight: bold\"> Trainable params: </span><span style=\"color: #00af00; text-decoration-color: #00af00\">0</span> (0.00 B)\n",
       "</pre>\n"
      ],
      "text/plain": [
       "\u001b[1m Trainable params: \u001b[0m\u001b[38;5;34m0\u001b[0m (0.00 B)\n"
      ]
     },
     "metadata": {},
     "output_type": "display_data"
    },
    {
     "data": {
      "text/html": [
       "<pre style=\"white-space:pre;overflow-x:auto;line-height:normal;font-family:Menlo,'DejaVu Sans Mono',consolas,'Courier New',monospace\"><span style=\"font-weight: bold\"> Non-trainable params: </span><span style=\"color: #00af00; text-decoration-color: #00af00\">0</span> (0.00 B)\n",
       "</pre>\n"
      ],
      "text/plain": [
       "\u001b[1m Non-trainable params: \u001b[0m\u001b[38;5;34m0\u001b[0m (0.00 B)\n"
      ]
     },
     "metadata": {},
     "output_type": "display_data"
    },
    {
     "name": "stdout",
     "output_type": "stream",
     "text": [
      "Epoch 1/10\n",
      "\u001b[1m4855/4855\u001b[0m \u001b[32m━━━━━━━━━━━━━━━━━━━━\u001b[0m\u001b[37m\u001b[0m \u001b[1m226s\u001b[0m 46ms/step - accuracy: 0.6636 - loss: 0.7296 - val_accuracy: 0.7379 - val_loss: 0.5867\n",
      "Epoch 2/10\n",
      "\u001b[1m4855/4855\u001b[0m \u001b[32m━━━━━━━━━━━━━━━━━━━━\u001b[0m\u001b[37m\u001b[0m \u001b[1m227s\u001b[0m 47ms/step - accuracy: 0.7687 - loss: 0.5238 - val_accuracy: 0.7665 - val_loss: 0.5371\n",
      "Epoch 3/10\n",
      "\u001b[1m4855/4855\u001b[0m \u001b[32m━━━━━━━━━━━━━━━━━━━━\u001b[0m\u001b[37m\u001b[0m \u001b[1m237s\u001b[0m 49ms/step - accuracy: 0.8131 - loss: 0.4328 - val_accuracy: 0.7853 - val_loss: 0.5087\n",
      "Epoch 4/10\n",
      "\u001b[1m4855/4855\u001b[0m \u001b[32m━━━━━━━━━━━━━━━━━━━━\u001b[0m\u001b[37m\u001b[0m \u001b[1m231s\u001b[0m 47ms/step - accuracy: 0.8472 - loss: 0.3590 - val_accuracy: 0.7972 - val_loss: 0.4963\n",
      "Epoch 5/10\n",
      "\u001b[1m4855/4855\u001b[0m \u001b[32m━━━━━━━━━━━━━━━━━━━━\u001b[0m\u001b[37m\u001b[0m \u001b[1m236s\u001b[0m 49ms/step - accuracy: 0.8747 - loss: 0.2970 - val_accuracy: 0.8106 - val_loss: 0.5044\n",
      "Epoch 6/10\n",
      "\u001b[1m4855/4855\u001b[0m \u001b[32m━━━━━━━━━━━━━━━━━━━━\u001b[0m\u001b[37m\u001b[0m \u001b[1m233s\u001b[0m 48ms/step - accuracy: 0.8957 - loss: 0.2549 - val_accuracy: 0.8169 - val_loss: 0.5170\n",
      "Epoch 7/10\n",
      "\u001b[1m4855/4855\u001b[0m \u001b[32m━━━━━━━━━━━━━━━━━━━━\u001b[0m\u001b[37m\u001b[0m \u001b[1m233s\u001b[0m 48ms/step - accuracy: 0.9131 - loss: 0.2132 - val_accuracy: 0.8290 - val_loss: 0.5263\n",
      "Epoch 8/10\n",
      "\u001b[1m4855/4855\u001b[0m \u001b[32m━━━━━━━━━━━━━━━━━━━━\u001b[0m\u001b[37m\u001b[0m \u001b[1m234s\u001b[0m 48ms/step - accuracy: 0.9271 - loss: 0.1824 - val_accuracy: 0.8374 - val_loss: 0.5375\n",
      "Epoch 9/10\n",
      "\u001b[1m4855/4855\u001b[0m \u001b[32m━━━━━━━━━━━━━━━━━━━━\u001b[0m\u001b[37m\u001b[0m \u001b[1m254s\u001b[0m 52ms/step - accuracy: 0.9374 - loss: 0.1562 - val_accuracy: 0.8420 - val_loss: 0.5703\n",
      "Epoch 10/10\n",
      "\u001b[1m4855/4855\u001b[0m \u001b[32m━━━━━━━━━━━━━━━━━━━━\u001b[0m\u001b[37m\u001b[0m \u001b[1m237s\u001b[0m 49ms/step - accuracy: 0.9462 - loss: 0.1372 - val_accuracy: 0.8511 - val_loss: 0.5767\n"
     ]
    },
    {
     "name": "stderr",
     "output_type": "stream",
     "text": [
      "WARNING:absl:You are saving your model as an HDF5 file via `model.save()` or `keras.saving.save_model(model)`. This file format is considered legacy. We recommend using instead the native Keras format, e.g. `model.save('my_model.keras')` or `keras.saving.save_model(model, 'my_model.keras')`. \n"
     ]
    }
   ],
   "source": [
    "def build_lstm_model(vocab_size, embedding_dim, input_length):\n",
    "    model = Sequential([\n",
    "        Embedding(vocab_size, embedding_dim, input_length=input_length),\n",
    "        Bidirectional(LSTM(64, return_sequences=False)),\n",
    "        Dropout(0.3),\n",
    "        Dense(32, activation='relu'),\n",
    "        Dense(3, activation='softmax')  # 3 classes\n",
    "    ])\n",
    "    return model\n",
    "\n",
    "# Build LSTM model\n",
    "lstm_model = build_lstm_model(max_vocab_size, embedding_dim, max_sequence_length)\n",
    "\n",
    "# Compile LSTM model\n",
    "lstm_model.compile(\n",
    "    optimizer='adam',\n",
    "    loss='categorical_crossentropy',\n",
    "    metrics=['accuracy']\n",
    ")\n",
    "\n",
    "# Summary\n",
    "print(\"\\nLSTM Model Summary:\")\n",
    "lstm_model.summary()\n",
    "\n",
    "# Train LSTM model\n",
    "history_lstm = lstm_model.fit(\n",
    "    X_train_padded, y_train_lstm,\n",
    "    batch_size=batch_size,\n",
    "    epochs=10,\n",
    "    validation_split=0.2\n",
    ")\n",
    "\n",
    "# Save LSTM model\n",
    "lstm_model.save('lstm_model.h5')"
   ]
  },
  {
   "cell_type": "code",
   "execution_count": 12,
   "metadata": {},
   "outputs": [],
   "source": [
    "lstm_model.save(\"lstm.keras\")"
   ]
  },
  {
   "cell_type": "code",
   "execution_count": 13,
   "metadata": {},
   "outputs": [
    {
     "name": "stdout",
     "output_type": "stream",
     "text": [
      "\n",
      "LSTM + CNN Model Summary:\n"
     ]
    },
    {
     "data": {
      "text/html": [
       "<pre style=\"white-space:pre;overflow-x:auto;line-height:normal;font-family:Menlo,'DejaVu Sans Mono',consolas,'Courier New',monospace\"><span style=\"font-weight: bold\">Model: \"sequential_1\"</span>\n",
       "</pre>\n"
      ],
      "text/plain": [
       "\u001b[1mModel: \"sequential_1\"\u001b[0m\n"
      ]
     },
     "metadata": {},
     "output_type": "display_data"
    },
    {
     "data": {
      "text/html": [
       "<pre style=\"white-space:pre;overflow-x:auto;line-height:normal;font-family:Menlo,'DejaVu Sans Mono',consolas,'Courier New',monospace\">┏━━━━━━━━━━━━━━━━━━━━━━━━━━━━━━━━━┳━━━━━━━━━━━━━━━━━━━━━━━━┳━━━━━━━━━━━━━━━┓\n",
       "┃<span style=\"font-weight: bold\"> Layer (type)                    </span>┃<span style=\"font-weight: bold\"> Output Shape           </span>┃<span style=\"font-weight: bold\">       Param # </span>┃\n",
       "┡━━━━━━━━━━━━━━━━━━━━━━━━━━━━━━━━━╇━━━━━━━━━━━━━━━━━━━━━━━━╇━━━━━━━━━━━━━━━┩\n",
       "│ embedding_1 (<span style=\"color: #0087ff; text-decoration-color: #0087ff\">Embedding</span>)         │ ?                      │   <span style=\"color: #00af00; text-decoration-color: #00af00\">0</span> (unbuilt) │\n",
       "├─────────────────────────────────┼────────────────────────┼───────────────┤\n",
       "│ bidirectional_1 (<span style=\"color: #0087ff; text-decoration-color: #0087ff\">Bidirectional</span>) │ ?                      │   <span style=\"color: #00af00; text-decoration-color: #00af00\">0</span> (unbuilt) │\n",
       "├─────────────────────────────────┼────────────────────────┼───────────────┤\n",
       "│ conv1d (<span style=\"color: #0087ff; text-decoration-color: #0087ff\">Conv1D</span>)                 │ ?                      │   <span style=\"color: #00af00; text-decoration-color: #00af00\">0</span> (unbuilt) │\n",
       "├─────────────────────────────────┼────────────────────────┼───────────────┤\n",
       "│ max_pooling1d (<span style=\"color: #0087ff; text-decoration-color: #0087ff\">MaxPooling1D</span>)    │ ?                      │             <span style=\"color: #00af00; text-decoration-color: #00af00\">0</span> │\n",
       "├─────────────────────────────────┼────────────────────────┼───────────────┤\n",
       "│ flatten (<span style=\"color: #0087ff; text-decoration-color: #0087ff\">Flatten</span>)               │ ?                      │   <span style=\"color: #00af00; text-decoration-color: #00af00\">0</span> (unbuilt) │\n",
       "├─────────────────────────────────┼────────────────────────┼───────────────┤\n",
       "│ dense_2 (<span style=\"color: #0087ff; text-decoration-color: #0087ff\">Dense</span>)                 │ ?                      │   <span style=\"color: #00af00; text-decoration-color: #00af00\">0</span> (unbuilt) │\n",
       "├─────────────────────────────────┼────────────────────────┼───────────────┤\n",
       "│ dropout_1 (<span style=\"color: #0087ff; text-decoration-color: #0087ff\">Dropout</span>)             │ ?                      │             <span style=\"color: #00af00; text-decoration-color: #00af00\">0</span> │\n",
       "├─────────────────────────────────┼────────────────────────┼───────────────┤\n",
       "│ dense_3 (<span style=\"color: #0087ff; text-decoration-color: #0087ff\">Dense</span>)                 │ ?                      │   <span style=\"color: #00af00; text-decoration-color: #00af00\">0</span> (unbuilt) │\n",
       "└─────────────────────────────────┴────────────────────────┴───────────────┘\n",
       "</pre>\n"
      ],
      "text/plain": [
       "┏━━━━━━━━━━━━━━━━━━━━━━━━━━━━━━━━━┳━━━━━━━━━━━━━━━━━━━━━━━━┳━━━━━━━━━━━━━━━┓\n",
       "┃\u001b[1m \u001b[0m\u001b[1mLayer (type)                   \u001b[0m\u001b[1m \u001b[0m┃\u001b[1m \u001b[0m\u001b[1mOutput Shape          \u001b[0m\u001b[1m \u001b[0m┃\u001b[1m \u001b[0m\u001b[1m      Param #\u001b[0m\u001b[1m \u001b[0m┃\n",
       "┡━━━━━━━━━━━━━━━━━━━━━━━━━━━━━━━━━╇━━━━━━━━━━━━━━━━━━━━━━━━╇━━━━━━━━━━━━━━━┩\n",
       "│ embedding_1 (\u001b[38;5;33mEmbedding\u001b[0m)         │ ?                      │   \u001b[38;5;34m0\u001b[0m (unbuilt) │\n",
       "├─────────────────────────────────┼────────────────────────┼───────────────┤\n",
       "│ bidirectional_1 (\u001b[38;5;33mBidirectional\u001b[0m) │ ?                      │   \u001b[38;5;34m0\u001b[0m (unbuilt) │\n",
       "├─────────────────────────────────┼────────────────────────┼───────────────┤\n",
       "│ conv1d (\u001b[38;5;33mConv1D\u001b[0m)                 │ ?                      │   \u001b[38;5;34m0\u001b[0m (unbuilt) │\n",
       "├─────────────────────────────────┼────────────────────────┼───────────────┤\n",
       "│ max_pooling1d (\u001b[38;5;33mMaxPooling1D\u001b[0m)    │ ?                      │             \u001b[38;5;34m0\u001b[0m │\n",
       "├─────────────────────────────────┼────────────────────────┼───────────────┤\n",
       "│ flatten (\u001b[38;5;33mFlatten\u001b[0m)               │ ?                      │   \u001b[38;5;34m0\u001b[0m (unbuilt) │\n",
       "├─────────────────────────────────┼────────────────────────┼───────────────┤\n",
       "│ dense_2 (\u001b[38;5;33mDense\u001b[0m)                 │ ?                      │   \u001b[38;5;34m0\u001b[0m (unbuilt) │\n",
       "├─────────────────────────────────┼────────────────────────┼───────────────┤\n",
       "│ dropout_1 (\u001b[38;5;33mDropout\u001b[0m)             │ ?                      │             \u001b[38;5;34m0\u001b[0m │\n",
       "├─────────────────────────────────┼────────────────────────┼───────────────┤\n",
       "│ dense_3 (\u001b[38;5;33mDense\u001b[0m)                 │ ?                      │   \u001b[38;5;34m0\u001b[0m (unbuilt) │\n",
       "└─────────────────────────────────┴────────────────────────┴───────────────┘\n"
      ]
     },
     "metadata": {},
     "output_type": "display_data"
    },
    {
     "data": {
      "text/html": [
       "<pre style=\"white-space:pre;overflow-x:auto;line-height:normal;font-family:Menlo,'DejaVu Sans Mono',consolas,'Courier New',monospace\"><span style=\"font-weight: bold\"> Total params: </span><span style=\"color: #00af00; text-decoration-color: #00af00\">0</span> (0.00 B)\n",
       "</pre>\n"
      ],
      "text/plain": [
       "\u001b[1m Total params: \u001b[0m\u001b[38;5;34m0\u001b[0m (0.00 B)\n"
      ]
     },
     "metadata": {},
     "output_type": "display_data"
    },
    {
     "data": {
      "text/html": [
       "<pre style=\"white-space:pre;overflow-x:auto;line-height:normal;font-family:Menlo,'DejaVu Sans Mono',consolas,'Courier New',monospace\"><span style=\"font-weight: bold\"> Trainable params: </span><span style=\"color: #00af00; text-decoration-color: #00af00\">0</span> (0.00 B)\n",
       "</pre>\n"
      ],
      "text/plain": [
       "\u001b[1m Trainable params: \u001b[0m\u001b[38;5;34m0\u001b[0m (0.00 B)\n"
      ]
     },
     "metadata": {},
     "output_type": "display_data"
    },
    {
     "data": {
      "text/html": [
       "<pre style=\"white-space:pre;overflow-x:auto;line-height:normal;font-family:Menlo,'DejaVu Sans Mono',consolas,'Courier New',monospace\"><span style=\"font-weight: bold\"> Non-trainable params: </span><span style=\"color: #00af00; text-decoration-color: #00af00\">0</span> (0.00 B)\n",
       "</pre>\n"
      ],
      "text/plain": [
       "\u001b[1m Non-trainable params: \u001b[0m\u001b[38;5;34m0\u001b[0m (0.00 B)\n"
      ]
     },
     "metadata": {},
     "output_type": "display_data"
    },
    {
     "name": "stdout",
     "output_type": "stream",
     "text": [
      "Epoch 1/10\n",
      "\u001b[1m4855/4855\u001b[0m \u001b[32m━━━━━━━━━━━━━━━━━━━━\u001b[0m\u001b[37m\u001b[0m \u001b[1m286s\u001b[0m 59ms/step - accuracy: 0.6580 - loss: 0.7442 - val_accuracy: 0.7349 - val_loss: 0.5788\n",
      "Epoch 2/10\n",
      "\u001b[1m4855/4855\u001b[0m \u001b[32m━━━━━━━━━━━━━━━━━━━━\u001b[0m\u001b[37m\u001b[0m \u001b[1m313s\u001b[0m 64ms/step - accuracy: 0.7686 - loss: 0.5275 - val_accuracy: 0.7712 - val_loss: 0.5189\n",
      "Epoch 3/10\n",
      "\u001b[1m4855/4855\u001b[0m \u001b[32m━━━━━━━━━━━━━━━━━━━━\u001b[0m\u001b[37m\u001b[0m \u001b[1m327s\u001b[0m 67ms/step - accuracy: 0.8182 - loss: 0.4269 - val_accuracy: 0.7868 - val_loss: 0.5015\n",
      "Epoch 4/10\n",
      "\u001b[1m4855/4855\u001b[0m \u001b[32m━━━━━━━━━━━━━━━━━━━━\u001b[0m\u001b[37m\u001b[0m \u001b[1m330s\u001b[0m 68ms/step - accuracy: 0.8566 - loss: 0.3435 - val_accuracy: 0.8073 - val_loss: 0.5129\n",
      "Epoch 5/10\n",
      "\u001b[1m4855/4855\u001b[0m \u001b[32m━━━━━━━━━━━━━━━━━━━━\u001b[0m\u001b[37m\u001b[0m \u001b[1m340s\u001b[0m 70ms/step - accuracy: 0.8873 - loss: 0.2720 - val_accuracy: 0.8205 - val_loss: 0.5269\n",
      "Epoch 6/10\n",
      "\u001b[1m4855/4855\u001b[0m \u001b[32m━━━━━━━━━━━━━━━━━━━━\u001b[0m\u001b[37m\u001b[0m \u001b[1m314s\u001b[0m 65ms/step - accuracy: 0.9093 - loss: 0.2171 - val_accuracy: 0.8285 - val_loss: 0.6316\n",
      "Epoch 7/10\n",
      "\u001b[1m4855/4855\u001b[0m \u001b[32m━━━━━━━━━━━━━━━━━━━━\u001b[0m\u001b[37m\u001b[0m \u001b[1m312s\u001b[0m 64ms/step - accuracy: 0.9279 - loss: 0.1809 - val_accuracy: 0.8397 - val_loss: 0.6087\n",
      "Epoch 8/10\n",
      "\u001b[1m4855/4855\u001b[0m \u001b[32m━━━━━━━━━━━━━━━━━━━━\u001b[0m\u001b[37m\u001b[0m \u001b[1m325s\u001b[0m 67ms/step - accuracy: 0.9419 - loss: 0.1478 - val_accuracy: 0.8475 - val_loss: 0.6789\n",
      "Epoch 9/10\n",
      "\u001b[1m4855/4855\u001b[0m \u001b[32m━━━━━━━━━━━━━━━━━━━━\u001b[0m\u001b[37m\u001b[0m \u001b[1m291s\u001b[0m 60ms/step - accuracy: 0.9517 - loss: 0.1232 - val_accuracy: 0.8535 - val_loss: 0.7953\n",
      "Epoch 10/10\n",
      "\u001b[1m4855/4855\u001b[0m \u001b[32m━━━━━━━━━━━━━━━━━━━━\u001b[0m\u001b[37m\u001b[0m \u001b[1m316s\u001b[0m 65ms/step - accuracy: 0.9591 - loss: 0.1063 - val_accuracy: 0.8593 - val_loss: 0.7726\n"
     ]
    },
    {
     "name": "stderr",
     "output_type": "stream",
     "text": [
      "WARNING:absl:You are saving your model as an HDF5 file via `model.save()` or `keras.saving.save_model(model)`. This file format is considered legacy. We recommend using instead the native Keras format, e.g. `model.save('my_model.keras')` or `keras.saving.save_model(model, 'my_model.keras')`. \n"
     ]
    }
   ],
   "source": [
    "def build_lstm_cnn_model(vocab_size, embedding_dim, input_length):\n",
    "    model = Sequential([\n",
    "        Embedding(vocab_size, embedding_dim, input_length=input_length),\n",
    "        Bidirectional(LSTM(64, return_sequences=True)),\n",
    "        Conv1D(filters=128, kernel_size=5, activation='relu'),\n",
    "        MaxPooling1D(pool_size=2),\n",
    "        Flatten(),\n",
    "        Dense(64, activation='relu'),\n",
    "        Dropout(0.5),\n",
    "        Dense(3, activation='softmax')  # 3 classes\n",
    "    ])\n",
    "    return model\n",
    "\n",
    "# Build LSTM + CNN model\n",
    "lstm_cnn_model = build_lstm_cnn_model(max_vocab_size, embedding_dim, max_sequence_length)\n",
    "\n",
    "# Compile LSTM + CNN model\n",
    "lstm_cnn_model.compile(\n",
    "    optimizer='adam',\n",
    "    loss='categorical_crossentropy',\n",
    "    metrics=['accuracy']\n",
    ")\n",
    "\n",
    "# Summary\n",
    "print(\"\\nLSTM + CNN Model Summary:\")\n",
    "lstm_cnn_model.summary()\n",
    "\n",
    "# Train LSTM + CNN model\n",
    "history_lstm_cnn = lstm_cnn_model.fit(\n",
    "    X_train_padded, y_train_lstm,\n",
    "    batch_size=batch_size,\n",
    "    epochs=10,\n",
    "    validation_split=0.2\n",
    ")\n",
    "\n",
    "# Save LSTM + CNN model\n",
    "lstm_cnn_model.save('lstm_cnn_model.h5')"
   ]
  },
  {
   "cell_type": "code",
   "execution_count": 20,
   "metadata": {},
   "outputs": [
    {
     "name": "stderr",
     "output_type": "stream",
     "text": [
      "All PyTorch model weights were used when initializing TFBertForSequenceClassification.\n",
      "\n",
      "Some weights or buffers of the TF 2.0 model TFBertForSequenceClassification were not initialized from the PyTorch model and are newly initialized: ['classifier.weight', 'classifier.bias']\n",
      "You should probably TRAIN this model on a down-stream task to be able to use it for predictions and inference.\n"
     ]
    }
   ],
   "source": [
    "# Initialize BERT tokenizer\n",
    "tokenizer_bert = BertTokenizer.from_pretrained(\"bert-base-uncased\")\n",
    "\n",
    "# Save the tokenizer for later use\n",
    "tokenizer_bert.save_pretrained('./tokenizer_bert')\n",
    "\n",
    "# Function to preprocess texts for BERT\n",
    "def preprocess_texts_bert(texts, tokenizer, max_length=128):\n",
    "    return tokenizer(\n",
    "        texts.tolist(),\n",
    "        padding=True,\n",
    "        truncation=True,\n",
    "        max_length=max_length,\n",
    "        return_tensors=\"tf\"\n",
    "    )\n",
    "\n",
    "# Preprocess training and testing data\n",
    "train_encodings = preprocess_texts_bert(X_train, tokenizer_bert, max_length=128)\n",
    "test_encodings = preprocess_texts_bert(X_test, tokenizer_bert, max_length=128)\n",
    "\n",
    "# Convert labels to TensorFlow tensors (integers for SparseCategoricalCrossentropy)\n",
    "y_train_bert = y_train.values\n",
    "y_test_bert = y_test.values\n",
    "\n",
    "# Load BERT model for classification\n",
    "bert_model = TFBertForSequenceClassification.from_pretrained(\n",
    "    \"bert-base-uncased\", num_labels=3\n",
    ")\n",
    "\n",
    "# Define optimizer using Hugging Face's create_optimizer\n",
    "epochs = 3\n",
    "learning_rate = 5e-5\n",
    "batch_size_bert = 16\n",
    "num_train_steps = len(train_encodings[\"input_ids\"]) // batch_size_bert * epochs\n",
    "num_warmup_steps = int(0.1 * num_train_steps)\n",
    "\n",
    "optimizer, schedule = create_optimizer(\n",
    "    init_lr=learning_rate,\n",
    "    num_train_steps=num_train_steps,\n",
    "    num_warmup_steps=num_warmup_steps\n",
    ")\n",
    "\n",
    "# Compile BERT model\n",
    "bert_model.compile(\n",
    "    optimizer=optimizer,\n",
    "    loss=tf.keras.losses.SparseCategoricalCrossentropy(from_logits=True),\n",
    "    metrics=[\"accuracy\"]\n",
    ")\n"
   ]
  },
  {
   "cell_type": "code",
   "execution_count": 21,
   "metadata": {},
   "outputs": [
    {
     "name": "stdout",
     "output_type": "stream",
     "text": [
      "Epoch 1/3\n",
      "1233/1233 [==============================] - 6711s 5s/step - loss: 0.4949 - accuracy: 0.7884 - val_loss: 0.3357 - val_accuracy: 0.8719\n",
      "Epoch 2/3\n",
      "1233/1233 [==============================] - 3370s 3s/step - loss: 0.2420 - accuracy: 0.9105 - val_loss: 0.2602 - val_accuracy: 0.9088\n",
      "Epoch 3/3\n",
      "1233/1233 [==============================] - 3221s 3s/step - loss: 0.0907 - accuracy: 0.9707 - val_loss: 0.2745 - val_accuracy: 0.9217\n"
     ]
    }
   ],
   "source": [
    "# Train BERT model\n",
    "history_bert = bert_model.fit(\n",
    "    x={\"input_ids\": train_encodings[\"input_ids\"], \"attention_mask\": train_encodings[\"attention_mask\"]},\n",
    "    y=y_train_bert,\n",
    "    validation_split=0.2,\n",
    "    epochs=epochs,\n",
    "    batch_size=batch_size_bert\n",
    ")\n",
    "\n",
    "# Save BERT model"
   ]
  },
  {
   "cell_type": "code",
   "execution_count": 38,
   "metadata": {},
   "outputs": [
    {
     "name": "stderr",
     "output_type": "stream",
     "text": [
      "All PyTorch model weights were used when initializing TFBertForSequenceClassification.\n",
      "\n",
      "Some weights or buffers of the TF 2.0 model TFBertForSequenceClassification were not initialized from the PyTorch model and are newly initialized: ['classifier.weight', 'classifier.bias']\n",
      "You should probably TRAIN this model on a down-stream task to be able to use it for predictions and inference.\n"
     ]
    },
    {
     "data": {
      "text/plain": [
       "('./saved_model\\\\tokenizer_config.json',\n",
       " './saved_model\\\\special_tokens_map.json',\n",
       " './saved_model\\\\vocab.txt',\n",
       " './saved_model\\\\added_tokens.json')"
      ]
     },
     "execution_count": 38,
     "metadata": {},
     "output_type": "execute_result"
    }
   ],
   "source": [
    "from transformers import TFBertForSequenceClassification, BertTokenizer\n",
    "\n",
    "# Example of saving the model\n",
    "model = TFBertForSequenceClassification.from_pretrained('bert-base-uncased')\n",
    "tokenizer = BertTokenizer.from_pretrained('bert-base-uncased')\n",
    "\n",
    "# Save the model and tokenizer\n",
    "model.save_pretrained('./saved_model')\n",
    "tokenizer.save_pretrained('./saved_model')\n"
   ]
  },
  {
   "cell_type": "code",
   "execution_count": 14,
   "metadata": {},
   "outputs": [
    {
     "name": "stdout",
     "output_type": "stream",
     "text": [
      "\n",
      "Evaluating LSTM Model:\n",
      "\u001b[1m1518/1518\u001b[0m \u001b[32m━━━━━━━━━━━━━━━━━━━━\u001b[0m\u001b[37m\u001b[0m \u001b[1m18s\u001b[0m 12ms/step - accuracy: 0.8479 - loss: 0.5901\n",
      "Test Loss: 0.5864, Test Accuracy: 0.8478\n",
      "\u001b[1m1518/1518\u001b[0m \u001b[32m━━━━━━━━━━━━━━━━━━━━\u001b[0m\u001b[37m\u001b[0m \u001b[1m17s\u001b[0m 11ms/step\n"
     ]
    },
    {
     "data": {
      "image/png": "[encoded data removed]",
      "text/plain": [
       "<Figure size 800x600 with 2 Axes>"
      ]
     },
     "metadata": {},
     "output_type": "display_data"
    },
    {
     "name": "stdout",
     "output_type": "stream",
     "text": [
      "\n",
      "Classification Report for LSTM Model:\n",
      "                          precision    recall  f1-score   support\n",
      "\n",
      "    Neutral or Ambiguous       0.81      0.76      0.78      7359\n",
      "Offensive or Hate Speech       0.86      0.88      0.87     22867\n",
      "                Not Hate       0.85      0.85      0.85     18322\n",
      "\n",
      "                accuracy                           0.85     48548\n",
      "               macro avg       0.84      0.83      0.83     48548\n",
      "            weighted avg       0.85      0.85      0.85     48548\n",
      "\n",
      "ROC-AUC Score for LSTM Model: 0.9425\n",
      "\n",
      "Evaluating LSTM+CNN Model:\n",
      "\u001b[1m1518/1518\u001b[0m \u001b[32m━━━━━━━━━━━━━━━━━━━━\u001b[0m\u001b[37m\u001b[0m \u001b[1m23s\u001b[0m 15ms/step - accuracy: 0.8563 - loss: 0.7906\n",
      "Test Loss: 0.7759, Test Accuracy: 0.8561\n",
      "\u001b[1m1518/1518\u001b[0m \u001b[32m━━━━━━━━━━━━━━━━━━━━\u001b[0m\u001b[37m\u001b[0m \u001b[1m23s\u001b[0m 15ms/step\n"
     ]
    },
    {
     "data": {
      "image/png": "[encoded data removed]",
      "text/plain": [
       "<Figure size 800x600 with 2 Axes>"
      ]
     },
     "metadata": {},
     "output_type": "display_data"
    },
    {
     "name": "stdout",
     "output_type": "stream",
     "text": [
      "\n",
      "Classification Report for LSTM+CNN Model:\n",
      "                          precision    recall  f1-score   support\n",
      "\n",
      "    Neutral or Ambiguous       0.79      0.80      0.79      7359\n",
      "Offensive or Hate Speech       0.87      0.89      0.88     22867\n",
      "                Not Hate       0.87      0.84      0.86     18322\n",
      "\n",
      "                accuracy                           0.86     48548\n",
      "               macro avg       0.84      0.84      0.84     48548\n",
      "            weighted avg       0.86      0.86      0.86     48548\n",
      "\n",
      "ROC-AUC Score for LSTM+CNN Model: 0.9466\n"
     ]
    }
   ],
   "source": [
    "def evaluate_model(model, X_test, y_test, model_type='LSTM'):\n",
    "    print(f\"\\nEvaluating {model_type} Model:\")\n",
    "    if model_type in ['LSTM', 'LSTM+CNN']:\n",
    "        loss, accuracy = model.evaluate(X_test, y_test, batch_size=32)\n",
    "        print(f\"Test Loss: {loss:.4f}, Test Accuracy: {accuracy:.4f}\")\n",
    "        \n",
    "        # Predictions\n",
    "        y_pred_probs = model.predict(X_test, batch_size=32)\n",
    "        y_pred_classes = np.argmax(y_pred_probs, axis=1)\n",
    "        y_true_classes = np.argmax(y_test, axis=1)\n",
    "    elif model_type == 'BERT':\n",
    "        loss, accuracy = model.evaluate(\n",
    "            x={\"input_ids\": X_test[\"input_ids\"], \"attention_mask\": X_test[\"attention_mask\"]},\n",
    "            y=y_test,\n",
    "            batch_size=16\n",
    "        )\n",
    "        print(f\"Test Loss: {loss:.4f}, Test Accuracy: {accuracy:.4f}\")\n",
    "        \n",
    "        # Predictions\n",
    "        y_pred_probs = model.predict(\n",
    "            x={\"input_ids\": X_test[\"input_ids\"], \"attention_mask\": X_test[\"attention_mask\"]}\n",
    "        ).logits\n",
    "        y_pred_classes = np.argmax(y_pred_probs, axis=1)\n",
    "        y_true_classes = y_test\n",
    "    else:\n",
    "        raise ValueError(\"Invalid model type. Choose from 'LSTM', 'LSTM+CNN', 'BERT'.\")\n",
    "    \n",
    "    # Confusion Matrix\n",
    "    cm = confusion_matrix(y_true_classes, y_pred_classes)\n",
    "    plt.figure(figsize=(8, 6))\n",
    "    sns.heatmap(cm, annot=True, fmt='d', cmap='Blues',\n",
    "                xticklabels=label_mapping.keys(),\n",
    "                yticklabels=label_mapping.keys())\n",
    "    plt.title(f'Confusion Matrix for {model_type} Model')\n",
    "    plt.ylabel('True Labels')\n",
    "    plt.xlabel('Predicted Labels')\n",
    "    plt.show()\n",
    "    \n",
    "    # Classification Report\n",
    "    print(f\"\\nClassification Report for {model_type} Model:\")\n",
    "    print(classification_report(y_true_classes, y_pred_classes, target_names=label_mapping.keys()))\n",
    "    \n",
    "    # ROC-AUC Score\n",
    "    if len(label_mapping) > 2:\n",
    "        # One-hot encode y_true_classes for ROC-AUC\n",
    "        y_true_binary = to_categorical(y_true_classes, num_classes=3)\n",
    "        roc_auc = roc_auc_score(y_true_binary, y_pred_probs, multi_class='ovr')\n",
    "    else:\n",
    "        roc_auc = roc_auc_score(y_true_classes, y_pred_probs[:, 1])\n",
    "    \n",
    "    print(f\"ROC-AUC Score for {model_type} Model: {roc_auc:.4f}\")\n",
    "    return accuracy, roc_auc\n",
    "\n",
    "# Evaluate LSTM\n",
    "accuracy_lstm, roc_auc_lstm = evaluate_model(lstm_model, X_test_padded, y_test_lstm, model_type='LSTM')\n",
    "\n",
    "# Evaluate LSTM + CNN\n",
    "accuracy_lstm_cnn, roc_auc_lstm_cnn = evaluate_model(lstm_cnn_model, X_test_padded, y_test_lstm, model_type='LSTM+CNN')\n",
    "\n",
    "# Evaluate BERT\n",
    "# accuracy_bert, roc_auc_bert = evaluate_model(bert_model, test_encodings, y_test_bert, model_type='BERT')\n"
   ]
  },
  {
   "cell_type": "code",
   "execution_count": 15,
   "metadata": {},
   "outputs": [
    {
     "name": "stdout",
     "output_type": "stream",
     "text": [
      "\n",
      "Best Model based on ROC-AUC: LSTM+CNN\n"
     ]
    }
   ],
   "source": [
    "# Compare ROC-AUC scores to select the best model\n",
    "roc_auc_scores = {\n",
    "    'LSTM': roc_auc_lstm,\n",
    "    'LSTM+CNN': roc_auc_lstm_cnn,\n",
    "}\n",
    "\n",
    "best_model_name = max(roc_auc_scores, key=roc_auc_scores.get)\n",
    "print(f\"\\nBest Model based on ROC-AUC: {best_model_name}\")\n",
    "\n",
    "# Save the best model name for Flask app\n",
    "with open('best_model.txt', 'w') as f:\n",
    "    f.write(best_model_name)"
   ]
  },
  {
   "cell_type": "code",
   "execution_count": 18,
   "metadata": {},
   "outputs": [
    {
     "name": "stdout",
     "output_type": "stream",
     "text": [
      "\n",
      "Predictions on Unseen Texts:\n",
      "\u001b[1m1/1\u001b[0m \u001b[32m━━━━━━━━━━━━━━━━━━━━\u001b[0m\u001b[37m\u001b[0m \u001b[1m0s\u001b[0m 13ms/step\n",
      "Text: \"I completely disagree with this view!\" -> Prediction: Not Hate\n",
      "\u001b[1m1/1\u001b[0m \u001b[32m━━━━━━━━━━━━━━━━━━━━\u001b[0m\u001b[37m\u001b[0m \u001b[1m0s\u001b[0m 9ms/step\n",
      "Text: \"What a beautiful day!\" -> Prediction: Not Hate\n",
      "\u001b[1m1/1\u001b[0m \u001b[32m━━━━━━━━━━━━━━━━━━━━\u001b[0m\u001b[37m\u001b[0m \u001b[1m0s\u001b[0m 9ms/step\n",
      "Text: \"You are absolutely horrible and disgusting piece of shit and a whore!\" -> Prediction: Offensive or Hate Speech\n"
     ]
    }
   ],
   "source": [
    "def predict_unseen_text(model, tokenizer, text, model_type='LSTM'):\n",
    "    if model_type in ['LSTM', 'LSTM+CNN']:\n",
    "        # Load tokenizer\n",
    "        tokenizer = joblib.load('tokenizer_lstm.pkl')\n",
    "        \n",
    "        # Preprocess\n",
    "        sequence = tokenizer.texts_to_sequences([text])\n",
    "        padded = pad_sequences(sequence, maxlen=max_sequence_length, padding='post', truncating='post')\n",
    "        \n",
    "        # Predict\n",
    "        pred_probs = model.predict(padded)\n",
    "        pred_class = np.argmax(pred_probs, axis=1)[0]\n",
    "    \n",
    "    elif model_type == 'BERT':\n",
    "        # Preprocess using BERT tokenizer\n",
    "        encodings = tokenizer(text, truncation=True, padding=True, max_length=128, return_tensors=\"tf\")\n",
    "        \n",
    "        # Predict\n",
    "        logits = model.predict(encodings).logits\n",
    "        pred_class = tf.argmax(logits, axis=1).numpy()[0]\n",
    "    \n",
    "    else:\n",
    "        raise ValueError(\"Invalid model type. Choose from 'LSTM', 'LSTM+CNN', 'BERT'.\")\n",
    "    \n",
    "    # Map to label\n",
    "    label = list(label_mapping.keys())[list(label_mapping.values()).index(pred_class)]\n",
    "    return label\n",
    "\n",
    "# Example usage\n",
    "unseen_texts = [\n",
    "    \"I completely disagree with this view!\",\n",
    "    \"What a beautiful day!\",\n",
    "    \"You are absolutely horrible and disgusting piece of shit and a whore!\"\n",
    "]\n",
    "\n",
    "best_model = None\n",
    "if best_model_name == 'LSTM':\n",
    "    best_model = lstm_model\n",
    "elif best_model_name == 'LSTM+CNN':\n",
    "    best_model = lstm_cnn_model\n",
    "elif best_model_name == 'BERT':\n",
    "    best_model = bert_model\n",
    "\n",
    "print(\"\\nPredictions on Unseen Texts:\")\n",
    "for text in unseen_texts:\n",
    "    prediction = predict_unseen_text(best_model, tokenizer_lstm, text, model_type=best_model_name)\n",
    "    print(f\"Text: \\\"{text}\\\" -> Prediction: {prediction}\")"
   ]
  },
  {
   "cell_type": "code",
   "execution_count": null,
   "metadata": {},
   "outputs": [],
   "source": []
  },
  {
   "cell_type": "code",
   "execution_count": null,
   "metadata": {},
   "outputs": [],
   "source": []
  }
 ],
 "metadata": {
  "kernelspec": {
   "display_name": "Python 3 (ipykernel)",
   "language": "python",
   "name": "python3"
  },
  "language_info": {
   "codemirror_mode": {
    "name": "ipython",
    "version": 3
   },
   "file_extension": ".py",
   "mimetype": "text/x-python",
   "name": "python",
   "nbconvert_exporter": "python",
   "pygments_lexer": "ipython3",
   "version": "3.11.7"
  }
 },
 "nbformat": 4,
 "nbformat_minor": 4
}
